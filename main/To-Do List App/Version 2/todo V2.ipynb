{
 "cells": [
  {
   "cell_type": "markdown",
   "id": "9ec00ae8-179b-4388-a4e1-833666ea3bce",
   "metadata": {},
   "source": [
    "# To-Do List App V2"
   ]
  },
  {
   "cell_type": "markdown",
   "id": "1266faee-fbc8-4322-8920-428df6c7b627",
   "metadata": {},
   "source": [
    "### Improvements to make\n",
    "- Use functions to organize code\n",
    "- Use a loop menu with options: Add, Delete, Exit"
   ]
  },
  {
   "cell_type": "markdown",
   "id": "af44a434-0f94-4d9c-892e-75e3376d054d",
   "metadata": {},
   "source": [
    "#### Previous version"
   ]
  },
  {
   "cell_type": "code",
   "execution_count": 1,
   "id": "35e2eb34-c6ef-41a3-a18e-63edfbb6fd50",
   "metadata": {},
   "outputs": [
    {
     "name": "stdout",
     "output_type": "stream",
     "text": [
      "\n",
      "Welcome to your To_Do List App!\n",
      "\n",
      "Choose an option:\n",
      "1. Add a task\n",
      "2. View tasks\n",
      "3. Exit\n"
     ]
    },
    {
     "name": "stdin",
     "output_type": "stream",
     "text": [
      "Enter your choice (1/2/3):  3\n"
     ]
    },
    {
     "name": "stdout",
     "output_type": "stream",
     "text": [
      "Exiting the app. Goodbye!\n"
     ]
    }
   ],
   "source": [
    "tasks = [] # list to hold tasks\n",
    "running = True\n",
    "\n",
    "print(\"\\nWelcome to your To_Do List App!\")\n",
    "\n",
    "while running: # loop until running becomes false\n",
    "    print(\"\\nChoose an option:\")\n",
    "    print(\"1. Add a task\")\n",
    "    print(\"2. View tasks\")\n",
    "    print(\"3. Exit\")\n",
    "\n",
    "# Get user input\n",
    "    choice = input(\"Enter your choice (1/2/3): \")\n",
    "\n",
    "# Add a task\n",
    "    if choice == \"1\":\n",
    "        task = input(\"Enter the task: \")\n",
    "        tasks.append(task)\n",
    "        print(\"Task added!\")\n",
    "        # If user enters \"1\", program asks for a task. \n",
    "        # append() adds that task into the list tasks.\n",
    "    \n",
    "# View tasks\n",
    "# If user chooses \"2\", we display all tasks\n",
    "    elif choice == \"2\":\n",
    "        print(\"\\n Your tasks:\")\n",
    "        if not tasks:\n",
    "            print(\"No tasks yet.\") # If the list is empty\n",
    "        else:\n",
    "            for index, value in enumerate(tasks, start=1):\n",
    "                print(f\"{index}. {value}\") # Print each task with its index\n",
    "\n",
    "# Exit the app\n",
    "    elif choice == \"3\":\n",
    "        running = False\n",
    "        print(\"Exiting the app. Goodbye!\")\n",
    "\n",
    "# Handle invalid input\n",
    "    else:\n",
    "        print(\"Invalid choice. Please try again.\")"
   ]
  },
  {
   "cell_type": "markdown",
   "id": "00e95c6b-3b70-4a35-b58c-8e26224b52af",
   "metadata": {},
   "source": [
    "### Breaking into functions"
   ]
  },
  {
   "cell_type": "code",
   "execution_count": null,
   "id": "cef00d7a-125c-458a-a0c5-cb2c279ce132",
   "metadata": {},
   "outputs": [],
   "source": [
    "def add_task(tasks): # Function 1\n",
    "    \"\"\"Add a new task to the list\"\"\"\n",
    "    task = input(\"Enter the task: \")\n",
    "    tasks.append(task)\n",
    "    print(\"Task added!\")\n",
    "\n",
    "def view_tasks(tasks): # Function 2\n",
    "    \"\"\"View all tasks in the list\"\"\"\n",
    "    if not tasks:\n",
    "        print(\"No tasks yet.\")\n",
    "    else:\n",
    "        print(\"\\n Your tasks:\")\n",
    "        for i, t in enumerate(tasks, start=1):\n",
    "            print(f\"{i}. {t}\")\n",
    "\n",
    "def delete_task(tasks):  # Function 3\n",
    "    \"\"\"Delete a task by number.\"\"\"\n",
    "    if not tasks:\n",
    "        print(\"No tasks to delete.\")\n",
    "    else:\n",
    "        view_tasks(tasks)\n",
    "        choice = int(input(\"Enter the number of the task to delete: \"))\n",
    "        if 1 <= choice <= len(tasks):\n",
    "            removed = tasks.pop(choice - 1)\n",
    "            print(f\"Deleted: {removed}\")\n",
    "        else:\n",
    "            print(\"Invalid task number.\")"
   ]
  },
  {
   "cell_type": "markdown",
   "id": "40092fa1-5215-4f6c-80c6-8aac9a21eaae",
   "metadata": {},
   "source": [
    "### Main loop\n",
    "\n",
    "Adding a menu loop to call these functions"
   ]
  },
  {
   "cell_type": "code",
   "execution_count": null,
   "id": "57b5428a-7b51-403f-ad4d-b79bcb19b381",
   "metadata": {},
   "outputs": [],
   "source": [
    "def main():\n",
    "    tasks = []\n",
    "    running = True\n",
    "\n",
    "    while running:\n",
    "        print(\"\\nWelcome to your To_Do List App!\")  \n",
    "        print(\"\\nChoose an option:\")\n",
    "        print(\"1. Add Task\")\n",
    "        print(\"2. View Tasks\")\n",
    "        print(\"3. Delete Task\")\n",
    "        print(\"4. Exit\")     \n",
    "\n",
    "        # Get user input\n",
    "        choice = input(\"Enter your choice (1/2/3): \")\n",
    "\n",
    "        if choice == \"1\":\n",
    "            add_task(tasks)\n",
    "        elif choice == \"2\":\n",
    "            view_tasks(tasks)\n",
    "        elif choice == \"3\":\n",
    "            delete_task(tasks)\n",
    "        elif choice == \"4\":\n",
    "            running = False\n",
    "            print(\"Goodbye!\")\n",
    "        else:\n",
    "            print(\"Invalid choice. Try again.\")\n",
    "\n",
    "    if __name__ == \"__main__\":\n",
    "    main()"
   ]
  },
  {
   "cell_type": "markdown",
   "id": "23090c60-56f0-4be2-b6d7-3790a0f0ccde",
   "metadata": {},
   "source": [
    "### Putting Version 2 all together"
   ]
  },
  {
   "cell_type": "code",
   "execution_count": null,
   "id": "cb402526-468e-4476-a603-6d4af5525cf1",
   "metadata": {},
   "outputs": [
    {
     "name": "stdout",
     "output_type": "stream",
     "text": [
      "\n",
      "Welcome to your To-Do List App!\n",
      "\n",
      "Choose an option:\n",
      "1. Add Task\n",
      "2. View Tasks\n",
      "3. Delete Task\n",
      "4. Exit\n"
     ]
    },
    {
     "name": "stdin",
     "output_type": "stream",
     "text": [
      "Enter your choice (1/2/3/4):  2\n"
     ]
    },
    {
     "name": "stdout",
     "output_type": "stream",
     "text": [
      "No tasks yet.\n",
      "\n",
      "Welcome to your To-Do List App!\n",
      "\n",
      "Choose an option:\n",
      "1. Add Task\n",
      "2. View Tasks\n",
      "3. Delete Task\n",
      "4. Exit\n"
     ]
    },
    {
     "name": "stdin",
     "output_type": "stream",
     "text": [
      "Enter your choice (1/2/3/4):  1\n",
      "Enter the task:  flu\n"
     ]
    },
    {
     "name": "stdout",
     "output_type": "stream",
     "text": [
      "Task added!\n",
      "\n",
      "Welcome to your To-Do List App!\n",
      "\n",
      "Choose an option:\n",
      "1. Add Task\n",
      "2. View Tasks\n",
      "3. Delete Task\n",
      "4. Exit\n"
     ]
    },
    {
     "name": "stdin",
     "output_type": "stream",
     "text": [
      "Enter your choice (1/2/3/4):  2\n"
     ]
    },
    {
     "name": "stdout",
     "output_type": "stream",
     "text": [
      "\n",
      "Your tasks:\n",
      "1. flu\n",
      "\n",
      "Welcome to your To-Do List App!\n",
      "\n",
      "Choose an option:\n",
      "1. Add Task\n",
      "2. View Tasks\n",
      "3. Delete Task\n",
      "4. Exit\n"
     ]
    },
    {
     "name": "stdin",
     "output_type": "stream",
     "text": [
      "Enter your choice (1/2/3/4):  3\n"
     ]
    },
    {
     "name": "stdout",
     "output_type": "stream",
     "text": [
      "\n",
      "Your tasks:\n",
      "1. flu\n"
     ]
    },
    {
     "name": "stdin",
     "output_type": "stream",
     "text": [
      "Enter the number of the task to delete:  2\n"
     ]
    },
    {
     "name": "stdout",
     "output_type": "stream",
     "text": [
      "Invalid task number.\n",
      "\n",
      "Welcome to your To-Do List App!\n",
      "\n",
      "Choose an option:\n",
      "1. Add Task\n",
      "2. View Tasks\n",
      "3. Delete Task\n",
      "4. Exit\n"
     ]
    }
   ],
   "source": [
    "def add_task(tasks):  # Function 1\n",
    "    \"\"\"Add a new task to the list\"\"\"\n",
    "    task = input(\"Enter the task: \")\n",
    "    tasks.append(task)\n",
    "    print(\"Task added!\")\n",
    "\n",
    "def view_tasks(tasks):  # Function 2\n",
    "    \"\"\"View all tasks in the list\"\"\"\n",
    "    if not tasks:\n",
    "        print(\"No tasks yet.\")\n",
    "    else:\n",
    "        print(\"\\nYour tasks:\")\n",
    "        for i, t in enumerate(tasks, start=1):\n",
    "            print(f\"{i}. {t}\")\n",
    "\n",
    "def delete_task(tasks):  # Function 3\n",
    "    \"\"\"Delete a task by number.\"\"\"\n",
    "    if not tasks:\n",
    "        print(\"No tasks to delete.\")\n",
    "    else:\n",
    "        view_tasks(tasks)\n",
    "        choice = int(input(\"Enter the number of the task to delete: \"))\n",
    "        if 1 <= choice <= len(tasks):\n",
    "            removed = tasks.pop(choice - 1)\n",
    "            print(f\"Deleted: {removed}\")\n",
    "        else:\n",
    "            print(\"Invalid task number.\")\n",
    "\n",
    "def main():\n",
    "    tasks = []  # list to hold tasks\n",
    "    running = True\n",
    "\n",
    "    while running:\n",
    "        print(\"\\nWelcome to your To-Do List App!\")  \n",
    "        print(\"\\nChoose an option:\")\n",
    "        print(\"1. Add Task\")\n",
    "        print(\"2. View Tasks\")\n",
    "        print(\"3. Delete Task\")\n",
    "        print(\"4. Exit\")     \n",
    "\n",
    "        choice = input(\"Enter your choice (1/2/3/4): \")\n",
    "\n",
    "        if choice == \"1\":\n",
    "            add_task(tasks)\n",
    "        elif choice == \"2\":\n",
    "            view_tasks(tasks)\n",
    "        elif choice == \"3\":\n",
    "            delete_task(tasks)\n",
    "        elif choice == \"4\":\n",
    "            running = False\n",
    "            print(\"Goodbye!\")\n",
    "        else:\n",
    "            print(\"Invalid choice. Try again.\")\n",
    "\n",
    "if __name__ == \"__main__\":\n",
    "    main()\n"
   ]
  },
  {
   "cell_type": "code",
   "execution_count": null,
   "id": "9754d632-a59e-40cc-af40-508f430dc33e",
   "metadata": {},
   "outputs": [],
   "source": []
  }
 ],
 "metadata": {
  "kernelspec": {
   "display_name": "Python [conda env:base] *",
   "language": "python",
   "name": "conda-base-py"
  },
  "language_info": {
   "codemirror_mode": {
    "name": "ipython",
    "version": 3
   },
   "file_extension": ".py",
   "mimetype": "text/x-python",
   "name": "python",
   "nbconvert_exporter": "python",
   "pygments_lexer": "ipython3",
   "version": "3.13.5"
  }
 },
 "nbformat": 4,
 "nbformat_minor": 5
}
