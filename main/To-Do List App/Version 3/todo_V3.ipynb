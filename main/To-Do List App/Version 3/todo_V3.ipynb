{
 "cells": [
  {
   "cell_type": "markdown",
   "id": "8523a5da-06af-4082-b0db-d75730d547ad",
   "metadata": {},
   "source": [
    "# To-Do List App V3"
   ]
  },
  {
   "cell_type": "markdown",
   "id": "4353d52b-714b-4d58-a8d4-40e2603a336f",
   "metadata": {},
   "source": [
    "## Improvements to make\n",
    "- Rename to Task Manager\n",
    "- Use OOP with classes\n",
    "- Add search functionality\n",
    "- Add sort functionality"
   ]
  },
  {
   "cell_type": "markdown",
   "id": "4b75e1bc-7e9a-42f5-b77e-a714a2357e9e",
   "metadata": {},
   "source": [
    "### Previous version\n",
    "The previous version allowed the user to add tasks, view tasks and delete tasks.\n",
    "\n",
    "The code was organized using functions and a menu loop"
   ]
  },
  {
   "cell_type": "code",
   "execution_count": null,
   "id": "7ac21627-2b06-4596-aea7-83d9df74c4d4",
   "metadata": {},
   "outputs": [],
   "source": [
    "def add_task(tasks):  # Function 1\n",
    "    \"\"\"Add a new task to the list\"\"\"\n",
    "    task = input(\"Enter the task: \")\n",
    "    tasks.append(task)\n",
    "    print(\"Task added!\")\n",
    "\n",
    "def view_tasks(tasks):  # Function 2\n",
    "    \"\"\"View all tasks in the list\"\"\"\n",
    "    if not tasks:\n",
    "        print(\"No tasks yet.\")\n",
    "    else:\n",
    "        print(\"\\nYour tasks:\")\n",
    "        for i, t in enumerate(tasks, start=1):\n",
    "            print(f\"{i}. {t}\")\n",
    "\n",
    "def delete_task(tasks):  # Function 3\n",
    "    \"\"\"Delete a task by number.\"\"\"\n",
    "    if not tasks:\n",
    "        print(\"No tasks to delete.\")\n",
    "    else:\n",
    "        view_tasks(tasks)\n",
    "        choice = int(input(\"Enter the number of the task to delete: \"))\n",
    "        if 1 <= choice <= len(tasks):\n",
    "            removed = tasks.pop(choice - 1)\n",
    "            print(f\"Deleted: {removed}\")\n",
    "        else:\n",
    "            print(\"Invalid task number.\")\n",
    "\n",
    "def main():\n",
    "    tasks = []  # list to hold tasks\n",
    "    running = True\n",
    "\n",
    "    while running:\n",
    "        print(\"\\nWelcome to your To-Do List App!\")  \n",
    "        print(\"\\nChoose an option:\")\n",
    "        print(\"1. Add Task\")\n",
    "        print(\"2. View Tasks\")\n",
    "        print(\"3. Delete Task\")\n",
    "        print(\"4. Exit\")     \n",
    "\n",
    "        choice = input(\"Enter your choice (1/2/3/4): \")\n",
    "\n",
    "        if choice == \"1\":\n",
    "            add_task(tasks)\n",
    "        elif choice == \"2\":\n",
    "            view_tasks(tasks)\n",
    "        elif choice == \"3\":\n",
    "            delete_task(tasks)\n",
    "        elif choice == \"4\":\n",
    "            running = False\n",
    "            print(\"Goodbye!\")\n",
    "        else:\n",
    "            print(\"Invalid choice. Try again.\")\n",
    "\n",
    "if __name__ == \"__main__\":\n",
    "    main()"
   ]
  },
  {
   "cell_type": "code",
   "execution_count": null,
   "id": "2df5b329-3638-4702-906d-d13729121eec",
   "metadata": {},
   "outputs": [],
   "source": []
  },
  {
   "cell_type": "markdown",
   "id": "d0136030-9bee-4b9c-af97-00b99e328331",
   "metadata": {},
   "source": [
    "### Creating the To-Do List App class skeleton"
   ]
  },
  {
   "cell_type": "code",
   "execution_count": null,
   "id": "06d9c169-3422-4df0-98de-bea065a45d71",
   "metadata": {},
   "outputs": [],
   "source": [
    "class TaskManager:\n",
    "    def__init__(self):\n",
    "        \"\"\"Initialize with an empty task list\"\"\"\n",
    "        self.tasks = []\n",
    "\n",
    "    def add_task(self, task):\n",
    "        \"\"\"Add a new task\"\"\"\n",
    "        pass\n",
    "\n",
    "    def view_tasks(self):\n",
    "        \"\"\"View all tasks\"\"\"\n",
    "        pass\n",
    "\n",
    "    def delete_task(self, index):\n",
    "        \"\"\"Delete task by index\"\"\"\n",
    "        pass\n",
    "\n",
    "    def search_tasks(self, keyword):\n",
    "        \"\"\"Search tasks containing a keyword\"\"\"\n",
    "        pass\n",
    "\n",
    "    def sort_tasks(self, by=\"alphabetical\"):\n",
    "        \"\"\"Sort tasks either alphsbetically or by length\"\"\"\n",
    "        pass"
   ]
  },
  {
   "cell_type": "code",
   "execution_count": null,
   "id": "7fc4c02b-87a5-462d-b856-22955bfe38b0",
   "metadata": {},
   "outputs": [],
   "source": []
  },
  {
   "cell_type": "markdown",
   "id": "5a5c6275-a4e5-4685-ac42-335aa1de6fed",
   "metadata": {},
   "source": [
    "### Implementing the first two methods"
   ]
  },
  {
   "cell_type": "code",
   "execution_count": 5,
   "id": "528bbf63-b998-4370-9c79-e723c4f2dcce",
   "metadata": {},
   "outputs": [],
   "source": [
    "class TaskManager:\n",
    "    def __init__(self):\n",
    "        \"\"\"Initialize with an empty task list\"\"\"\n",
    "        self.tasks = []\n",
    "\n",
    "    def add_task(self, task):\n",
    "        \"\"\"Add a new task\"\"\"\n",
    "        self.tasks.append(task)\n",
    "        print(f\"Task added: {task}\")\n",
    "\n",
    "    def view_tasks(self):\n",
    "        \"\"\"View all tasks\"\"\"\n",
    "        if not self.tasks:\n",
    "            print(\"No tasks yet.\")\n",
    "        else:\n",
    "            print(\"\\nYour tasks:\")\n",
    "            for i, task in enumerate(self.tasks, start=1):\n",
    "                print(f\"{i}. {task}\")\n",
    "\n",
    "    def delete_task(self, index):\n",
    "        \"\"\"Delete a task by index\"\"\"\n",
    "        pass\n",
    "\n",
    "    def search_tasks(self, keyword):\n",
    "        \"\"\"Search tasks containing a keyword\"\"\"\n",
    "        pass\n",
    "\n",
    "    def sort_tasks(self, by=\"alphabetical\"):\n",
    "        \"\"\"Sort tasks either alphabetically or by length\"\"\"\n",
    "        pass"
   ]
  },
  {
   "cell_type": "markdown",
   "id": "0570d384-2790-4c32-83be-c4d99711b84d",
   "metadata": {},
   "source": [
    "#### Test"
   ]
  },
  {
   "cell_type": "code",
   "execution_count": 45,
   "id": "d1a716ea-6d25-47d6-8e98-c93b38c1935e",
   "metadata": {},
   "outputs": [
    {
     "name": "stdout",
     "output_type": "stream",
     "text": [
      "Task added: Jump\n",
      "Task added: Finish Python project\n",
      "Task added: Run away\n",
      "\n",
      "Your tasks:\n",
      "1. Jump\n",
      "2. Finish Python project\n",
      "3. Run away\n"
     ]
    }
   ],
   "source": [
    "manager = TaskManager() # create an instance\n",
    "\n",
    "manager.add_task(\"Jump\")\n",
    "manager.add_task(\"Finish Python project\")\n",
    "manager.add_task(\"Run away\")\n",
    "\n",
    "manager.view_tasks()"
   ]
  },
  {
   "cell_type": "markdown",
   "id": "83975095-34ff-4f5b-a4a7-05089290bcf6",
   "metadata": {},
   "source": [
    "### Delete tasks"
   ]
  },
  {
   "cell_type": "code",
   "execution_count": 34,
   "id": "c70211ba-b9fe-4721-9723-cd92a9fd550c",
   "metadata": {},
   "outputs": [],
   "source": [
    "class TaskManager:\n",
    "    def __init__(self):\n",
    "        \"\"\"Initialize with an empty task list\"\"\"\n",
    "        self.tasks = []\n",
    "\n",
    "    def add_task(self, task):\n",
    "        \"\"\"Add a new task\"\"\"\n",
    "        self.tasks.append(task)\n",
    "        print(f\"Task added: {task}\")\n",
    "\n",
    "    def view_tasks(self):\n",
    "        \"\"\"View all tasks\"\"\"\n",
    "        if not self.tasks:\n",
    "            print(\"No tasks yet.\")\n",
    "        else:\n",
    "            print(\"\\nYour tasks:\")\n",
    "            for i, task in enumerate(self.tasks, start=1):\n",
    "                print(f\"{i}. {task}\")\n",
    "\n",
    "    def delete_task(self, index):\n",
    "        \"\"\"Delete a task by index\"\"\"\n",
    "        if 1 <= index <= len(self.tasks):\n",
    "            removed = self.tasks.pop(index - 1)\n",
    "            print(f\"Deleted task: {removed}\")\n",
    "        else:\n",
    "            print(\"Invalid task number.\")\n",
    "\n",
    "    def search_tasks(self, keyword):\n",
    "        \"\"\"Search tasks containing a keyword\"\"\"\n",
    "        pass\n",
    "\n",
    "    def sort_tasks(self, by=\"alphabetical\"):\n",
    "        \"\"\"Sort tasks either alphabetically or by length\"\"\"\n",
    "        pass\n"
   ]
  },
  {
   "cell_type": "markdown",
   "id": "05bf5318-e99d-4bd8-a1eb-848bee8405b3",
   "metadata": {},
   "source": [
    "#### Test"
   ]
  },
  {
   "cell_type": "code",
   "execution_count": 80,
   "id": "61cdb23c-342b-4f3a-a2ed-b117e857843c",
   "metadata": {},
   "outputs": [
    {
     "name": "stdout",
     "output_type": "stream",
     "text": [
      "\n",
      "Tasks before delete:\n",
      "\n",
      "Your tasks:\n",
      "1. Finish Python project\n",
      "2. Run away\n",
      "3. Zoom\n",
      "4. Do homework\n",
      "5. Call friend\n"
     ]
    }
   ],
   "source": [
    "print(\"\\nTasks before delete:\")\n",
    "manager.view_tasks()"
   ]
  },
  {
   "cell_type": "code",
   "execution_count": 81,
   "id": "04ef4843-bd9b-4c16-b3a8-bc2abd10dbc3",
   "metadata": {},
   "outputs": [
    {
     "name": "stdout",
     "output_type": "stream",
     "text": [
      "Deleted task: Do homework\n"
     ]
    }
   ],
   "source": [
    "manager.delete_task(4)"
   ]
  },
  {
   "cell_type": "code",
   "execution_count": 82,
   "id": "89b098a7-12a9-4ab8-b070-cb81baef300c",
   "metadata": {},
   "outputs": [
    {
     "name": "stdout",
     "output_type": "stream",
     "text": [
      "\n",
      "Tasks after delete:\n",
      "\n",
      "Your tasks:\n",
      "1. Finish Python project\n",
      "2. Run away\n",
      "3. Zoom\n",
      "4. Call friend\n"
     ]
    }
   ],
   "source": [
    "print(\"\\nTasks after delete:\")\n",
    "manager.view_tasks()"
   ]
  },
  {
   "cell_type": "markdown",
   "id": "122905aa-fc03-461a-ac97-c942a62572e3",
   "metadata": {},
   "source": [
    "### Search feature\n",
    "User can enter a keyword, and the app will return all tasks that contain that word."
   ]
  },
  {
   "cell_type": "code",
   "execution_count": 51,
   "id": "9dbc64ab-82c9-4137-9968-0e0c40afcb52",
   "metadata": {},
   "outputs": [],
   "source": [
    "class TaskManager:\n",
    "    def __init__(self):\n",
    "        \"\"\"Initialize with an empty task list\"\"\"\n",
    "        self.tasks = []\n",
    "\n",
    "    def add_task(self, task):\n",
    "        \"\"\"Add a new task\"\"\"\n",
    "        self.tasks.append(task)\n",
    "        print(f\"Task added: {task}\")\n",
    "\n",
    "    def view_tasks(self):\n",
    "        \"\"\"View all tasks\"\"\"\n",
    "        if not self.tasks:\n",
    "            print(\"No tasks yet.\")\n",
    "        else:\n",
    "            print(\"\\nYour tasks:\")\n",
    "            for i, task in enumerate(self.tasks, start=1):\n",
    "                print(f\"{i}. {task}\")\n",
    "\n",
    "    def delete_task(self, index):\n",
    "        \"\"\"Delete a task by index\"\"\"\n",
    "        if 1 <= index <= len(self.tasks):\n",
    "            removed = self.tasks.pop(index - 1)\n",
    "            print(f\"Deleted task: {removed}\")\n",
    "        else:\n",
    "            print(\"Invalid task number.\")\n",
    "\n",
    "    def search_tasks(self, keyword):\n",
    "        \"\"\"Search tasks containing a keyword\"\"\"\n",
    "        results = [t for t in self.tasks if keyword.lower() in t.lower()] # Makes the search case-insensitive\n",
    "        if results:\n",
    "            print(\"\\n🔎 Search results:\")\n",
    "            for i, task in enumerate(results, start=1):\n",
    "                print(f\"{i}. {task}\")\n",
    "        else:\n",
    "            print(\"No tasks matched your search.\")\n",
    "\n",
    "    def sort_tasks(self, by=\"alphabetical\"):\n",
    "        \"\"\"Sort tasks either alphabetically or by length\"\"\"\n",
    "        pass\n"
   ]
  },
  {
   "cell_type": "markdown",
   "id": "32801598-a338-4f06-946a-6b781d6dfdf8",
   "metadata": {},
   "source": [
    "#### Test"
   ]
  },
  {
   "cell_type": "code",
   "execution_count": 54,
   "id": "607b1be2-3077-4905-a7d9-d0ada6329552",
   "metadata": {},
   "outputs": [
    {
     "name": "stdout",
     "output_type": "stream",
     "text": [
      "No tasks matched your search.\n"
     ]
    }
   ],
   "source": [
    "manager.search_tasks(\"jump\")"
   ]
  },
  {
   "cell_type": "code",
   "execution_count": 55,
   "id": "c9d1473a-ca3c-4b7e-8a9a-542822e30919",
   "metadata": {},
   "outputs": [
    {
     "name": "stdout",
     "output_type": "stream",
     "text": [
      "\n",
      "🔎 Search results:\n",
      "1. Finish Python project\n"
     ]
    }
   ],
   "source": [
    "manager.search_tasks(\"python\")"
   ]
  },
  {
   "cell_type": "markdown",
   "id": "21c25c4a-97f3-45a4-9cff-2f4c8df8038b",
   "metadata": {},
   "source": [
    "### Implementing Sorting Feature\n",
    "Sort alphabetically or by length(shortest to longest)"
   ]
  },
  {
   "cell_type": "code",
   "execution_count": 88,
   "id": "296d6002-64fc-4feb-a044-cd4436389931",
   "metadata": {},
   "outputs": [],
   "source": [
    "class TaskManager:\n",
    "    def __init__(self):\n",
    "        \"\"\"Initialize with an empty task list\"\"\"\n",
    "        self.tasks = []\n",
    "\n",
    "    def add_task(self, task):\n",
    "        \"\"\"Add a new task\"\"\"\n",
    "        self.tasks.append(task)\n",
    "        print(f\"Task added: {task}\")\n",
    "\n",
    "    def view_tasks(self):\n",
    "        \"\"\"View all tasks\"\"\"\n",
    "        if not self.tasks:\n",
    "            print(\"No tasks yet.\")\n",
    "        else:\n",
    "            print(\"\\nYour tasks:\")\n",
    "            for i, task in enumerate(self.tasks, start=1):\n",
    "                print(f\"{i}. {task}\")\n",
    "\n",
    "    def delete_task(self, index):\n",
    "        \"\"\"Delete a task by index\"\"\"\n",
    "        if 1 <= index <= len(self.tasks):\n",
    "            removed = self.tasks.pop(index - 1)\n",
    "            print(f\"Deleted task: {removed}\")\n",
    "        else:\n",
    "            print(\"Invalid task number.\")\n",
    "\n",
    "    def search_tasks(self, keyword):\n",
    "        \"\"\"Search tasks containing a keyword\"\"\"\n",
    "        results = [t for t in self.tasks if keyword.lower() in t.lower()] # Makes the search case-insensitive\n",
    "        if results:\n",
    "            print(\"\\n🔎 Search results:\")\n",
    "            for i, task in enumerate(results, start=1):\n",
    "                print(f\"{i}. {task}\")\n",
    "        else:\n",
    "            print(\"No tasks matched your search.\")\n",
    "\n",
    "    def sort_tasks(self, by=\"alphabetical\"):\n",
    "        \"\"\"Sort tasks either alphabetically or by length\"\"\"\n",
    "        if not self.tasks:\n",
    "            print(\"No tasks to sort.\")\n",
    "            return\n",
    "\n",
    "        if by == \"alphabetical\":\n",
    "            self.tasks.sort()\n",
    "            print(\"Tasks sorted alphabetically.\")\n",
    "        elif by == \"length\":\n",
    "            self.tasks.sort(key=len)\n",
    "            print(\"Tasks sorted by length.\")\n",
    "        else:\n",
    "            print(\"Invalid sort option.\")"
   ]
  },
  {
   "cell_type": "markdown",
   "id": "03381299-d252-41ae-addb-5f87e754a977",
   "metadata": {},
   "source": [
    "#### Test"
   ]
  },
  {
   "cell_type": "code",
   "execution_count": 89,
   "id": "96d6f6c7-355b-4908-b9bb-3e2e4730bcee",
   "metadata": {},
   "outputs": [
    {
     "name": "stdout",
     "output_type": "stream",
     "text": [
      "Task added: Wash the dishes\n",
      "Task added: Read a book\n",
      "Task added: Go jogging\n",
      "\n",
      "Before sorting:\n",
      "\n",
      "Your tasks:\n",
      "1. Wash the dishes\n",
      "2. Read a book\n",
      "3. Go jogging\n",
      "\n",
      "Sorting by length:\n",
      "Tasks sorted by length.\n",
      "\n",
      "Your tasks:\n",
      "1. Go jogging\n",
      "2. Read a book\n",
      "3. Wash the dishes\n",
      "\n",
      "Sorting alphabetically:\n",
      "Tasks sorted alphabetically.\n",
      "\n",
      "Your tasks:\n",
      "1. Go jogging\n",
      "2. Read a book\n",
      "3. Wash the dishes\n"
     ]
    }
   ],
   "source": [
    "manager = TaskManager()\n",
    "\n",
    "manager.add_task(\"Wash the dishes\")\n",
    "manager.add_task(\"Read a book\")\n",
    "manager.add_task(\"Go jogging\")\n",
    "\n",
    "print(\"\\nBefore sorting:\")\n",
    "manager.view_tasks()\n",
    "\n",
    "print(\"\\nSorting by length:\")\n",
    "manager.sort_tasks(\"length\")\n",
    "manager.view_tasks()\n",
    "\n",
    "print(\"\\nSorting alphabetically:\")\n",
    "manager.sort_tasks(\"alphabetical\")\n",
    "manager.view_tasks()\n"
   ]
  },
  {
   "cell_type": "code",
   "execution_count": null,
   "id": "2a72ee0a-305e-41fe-a05f-9037d98ce6d5",
   "metadata": {},
   "outputs": [],
   "source": []
  }
 ],
 "metadata": {
  "kernelspec": {
   "display_name": "Python [conda env:base] *",
   "language": "python",
   "name": "conda-base-py"
  },
  "language_info": {
   "codemirror_mode": {
    "name": "ipython",
    "version": 3
   },
   "file_extension": ".py",
   "mimetype": "text/x-python",
   "name": "python",
   "nbconvert_exporter": "python",
   "pygments_lexer": "ipython3",
   "version": "3.13.5"
  }
 },
 "nbformat": 4,
 "nbformat_minor": 5
}
