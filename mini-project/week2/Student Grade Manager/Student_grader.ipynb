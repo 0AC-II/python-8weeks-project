{
 "cells": [
  {
   "cell_type": "markdown",
   "id": "aef1f155-31cb-4b39-ba4c-a69a75f128c5",
   "metadata": {},
   "source": [
    "# 🎓Student Grade Manager"
   ]
  },
  {
   "cell_type": "markdown",
   "id": "16231ddb-19b7-450c-ad68-63add75e73bd",
   "metadata": {},
   "source": [
    "## Goal\n",
    "\n",
    "A small program where one can:\n",
    "\n",
    "- Add students and their scores\n",
    "\n",
    "- Calculate average scores\n",
    "\n",
    "- Assign letter grades (A–F)\n",
    "\n",
    "- View all students’ results"
   ]
  },
  {
   "cell_type": "markdown",
   "id": "eca08869-699b-46cd-8389-62544305f981",
   "metadata": {},
   "source": [
    "## Defining a function to calculate grade\n",
    "\n",
    "In calculating the grades we want to calculate the average and make use of conditionals to decide the grade"
   ]
  },
  {
   "cell_type": "code",
   "execution_count": 5,
   "id": "125c6bc0-30c0-4e9c-959d-9ddc7d55cb42",
   "metadata": {},
   "outputs": [],
   "source": [
    "def calculate_grade(*scores):\n",
    "    # Takes any number of scores, returns average and grade\n",
    "    average = sum(scores)/ len(scores)\n",
    "\n",
    "    # Conditionals\n",
    "    if average >= 70:\n",
    "        grade = \"A\"\n",
    "    elif average >= 60:\n",
    "        grade = \"B\"\n",
    "    elif average >= 50:\n",
    "        grade = \"C\"\n",
    "    elif average >= 40:\n",
    "        grade = \"D\"\n",
    "    else:\n",
    "        grade = \"F\"\n",
    "\n",
    "    return average, grade"
   ]
  },
  {
   "cell_type": "markdown",
   "id": "8501f4c6-dfce-40fe-a954-5e08b2ac6b0b",
   "metadata": {},
   "source": [
    "## Building the student manager"
   ]
  },
  {
   "cell_type": "markdown",
   "id": "5215898f-0fe7-4544-96c0-1fe882873d8b",
   "metadata": {},
   "source": [
    "### Creating the menu loop\n",
    "\n",
    "\n"
   ]
  },
  {
   "cell_type": "code",
   "execution_count": 2,
   "id": "1fb6db59-a8bd-4dd4-911a-a16e23588133",
   "metadata": {},
   "outputs": [
    {
     "name": "stdout",
     "output_type": "stream",
     "text": [
      "\n",
      " Student Grade Manager\n",
      "1. Add Student\n",
      "2. View All Students\n",
      "3. Exit\n"
     ]
    },
    {
     "name": "stdin",
     "output_type": "stream",
     "text": [
      "Enter choice (1/2/3): 3\n"
     ]
    },
    {
     "name": "stdout",
     "output_type": "stream",
     "text": [
      "Goodbye\n"
     ]
    }
   ],
   "source": [
    "students = [] # list to store student dictionaries\n",
    "running = True\n",
    "\n",
    "while running:\n",
    "    print(\"\\n Student Grade Manager\")\n",
    "    print(\"1. Add Student\")\n",
    "    print(\"2. View All Students\")\n",
    "    print(\"3. Exit\")\n",
    "\n",
    "    choice = input(\"Enter choice (1/2/3):\")\n",
    "\n",
    "    if choice == \"1\":\n",
    "        pass\n",
    "    elif choice == \"2\":\n",
    "        pass\n",
    "    elif choice == \"3\":\n",
    "        print(\"Goodbye\")\n",
    "        running = False\n",
    "    else:\n",
    "        print(\"Invalid choice. Try again.\")"
   ]
  },
  {
   "cell_type": "markdown",
   "id": "6a791ec5-e736-4f79-82fb-9e993070e49f",
   "metadata": {},
   "source": [
    "### Add Student: Choice 1"
   ]
  },
  {
   "cell_type": "code",
   "execution_count": null,
   "id": "4c0cd166-5f34-47c1-b06e-93a2b8258398",
   "metadata": {},
   "outputs": [],
   "source": [
    "name = input(\"Enter student name: \")\n",
    "\n",
    "scores = []\n",
    "for i in range(1, 4): # Enter subjects\n",
    "    while True:\n",
    "        raw = input(f\"Enter score for subject {i} (0-100): \")\n",
    "        if raw.isdigit(): \n",
    "            score = int(raw)\n",
    "            if 0 <= score <= 100:\n",
    "                scores.append(score)\n",
    "                break\n",
    "        print(\"Invalid score! Please enter a number between 0 and 100.\")\n",
    "\n",
    "avg, grade = calculate_grade(*scores)\n",
    "student = {\"name\": name, \"scores\": scores, \"average\": avg, \"grade\": grade}\n",
    "students.append(student)\n",
    "print(f\" {name} added with average {avg: .2f} and grade {grade}.\")"
   ]
  },
  {
   "cell_type": "markdown",
   "id": "a3e54125-40b2-4111-9afa-43958a192eb9",
   "metadata": {},
   "source": [
    "#### Adding to existing menu loop"
   ]
  },
  {
   "cell_type": "code",
   "execution_count": 6,
   "id": "a48ef046-d1ff-4d73-a377-fc7211c24c95",
   "metadata": {},
   "outputs": [
    {
     "name": "stdout",
     "output_type": "stream",
     "text": [
      "\n",
      " Student Grade Manager\n",
      "1. Add Student\n",
      "2. View All Students\n",
      "3. Exit\n"
     ]
    },
    {
     "name": "stdin",
     "output_type": "stream",
     "text": [
      "Enter choice (1/2/3): 1\n",
      "Enter student name:  Spearson\n",
      "Enter score for subject 1 (0-100):  80\n",
      "Enter score for subject 2 (0-100):  62\n",
      "Enter score for subject 3 (0-100):  73\n"
     ]
    },
    {
     "name": "stdout",
     "output_type": "stream",
     "text": [
      " Spearson added with average  71.67 and grade A.\n",
      "\n",
      " Student Grade Manager\n",
      "1. Add Student\n",
      "2. View All Students\n",
      "3. Exit\n"
     ]
    },
    {
     "name": "stdin",
     "output_type": "stream",
     "text": [
      "Enter choice (1/2/3): 3\n"
     ]
    },
    {
     "name": "stdout",
     "output_type": "stream",
     "text": [
      "Goodbye\n"
     ]
    }
   ],
   "source": [
    "students = [] # list to store student dictionaries\n",
    "running = True\n",
    "\n",
    "while running:\n",
    "    print(\"\\n Student Grade Manager\")\n",
    "    print(\"1. Add Student\")\n",
    "    print(\"2. View All Students\")\n",
    "    print(\"3. Exit\")\n",
    "\n",
    "    choice = input(\"Enter choice (1/2/3):\")\n",
    "\n",
    "    if choice == \"1\":\n",
    "        name = input(\"Enter student name: \")\n",
    "\n",
    "        scores = []\n",
    "        for i in range(1, 4): # Enter subjects\n",
    "            while True:\n",
    "                raw = input(f\"Enter score for subject {i} (0-100): \")\n",
    "                if raw.isdigit(): \n",
    "                    score = int(raw)\n",
    "                    if 0 <= score <= 100:\n",
    "                        scores.append(score)\n",
    "                        break\n",
    "                print(\"Invalid score! Please enter a number between 0 and 100.\")\n",
    "        \n",
    "        avg, grade = calculate_grade(*scores)\n",
    "        student = {\"name\": name, \"scores\": scores, \"average\": avg, \"grade\": grade}\n",
    "        students.append(student)\n",
    "        print(f\" {name} added with average {avg: .2f} and grade {grade}.\")\n",
    "        \n",
    "    elif choice == \"2\":\n",
    "        pass\n",
    "    elif choice == \"3\":\n",
    "        print(\"Goodbye\")\n",
    "        running = False\n",
    "    else:\n",
    "        print(\"Invalid choice. Try again.\")"
   ]
  },
  {
   "cell_type": "markdown",
   "id": "711b7fbb-c37a-45dc-8731-4b0f06092ac2",
   "metadata": {},
   "source": [
    "### Add View All Students: For choice 2"
   ]
  },
  {
   "cell_type": "code",
   "execution_count": 9,
   "id": "0d5c5fe7-6bf9-40b6-a8ab-2b6d12d09a3c",
   "metadata": {},
   "outputs": [],
   "source": [
    "if not students:\n",
    "    print(\"No students yet.\")\n",
    "else:\n",
    "    print(\"\\n Student Report\")\n",
    "    print(\"----------------\")\n",
    "    for  s in students:\n",
    "        scores_text = \", \".join(str(x) for x in s[\"scores\"])\n",
    "        print(f\" {s['name']}: Scores=[{scores_text}] | Avg={s['average']: .2f} | Grade={s['grade']}\")"
   ]
  },
  {
   "cell_type": "markdown",
   "id": "a9cc8b0d-6e05-4335-b003-5fedb2c2e52e",
   "metadata": {},
   "source": [
    "#### Adding choice 2 to existing menu loop"
   ]
  },
  {
   "cell_type": "code",
   "execution_count": 12,
   "id": "95f99720-b6e3-4da5-b48a-28328528ce7b",
   "metadata": {},
   "outputs": [
    {
     "name": "stdout",
     "output_type": "stream",
     "text": [
      "\n",
      " Student Grade Manager\n",
      "1. Add Student\n",
      "2. View All Students\n",
      "3. Exit\n"
     ]
    },
    {
     "name": "stdin",
     "output_type": "stream",
     "text": [
      "Enter choice (1/2/3): 2\n"
     ]
    },
    {
     "name": "stdout",
     "output_type": "stream",
     "text": [
      "No students yet.\n",
      "\n",
      " Student Grade Manager\n",
      "1. Add Student\n",
      "2. View All Students\n",
      "3. Exit\n"
     ]
    },
    {
     "name": "stdin",
     "output_type": "stream",
     "text": [
      "Enter choice (1/2/3): 1\n",
      "Enter student name:  Kaps\n",
      "Enter score for subject 1 (0-100):  64\n",
      "Enter score for subject 2 (0-100):  48\n",
      "Enter score for subject 3 (0-100):  57\n"
     ]
    },
    {
     "name": "stdout",
     "output_type": "stream",
     "text": [
      " Kaps added with average  56.33 and grade C.\n",
      "\n",
      " Student Grade Manager\n",
      "1. Add Student\n",
      "2. View All Students\n",
      "3. Exit\n"
     ]
    },
    {
     "name": "stdin",
     "output_type": "stream",
     "text": [
      "Enter choice (1/2/3): Spears\n"
     ]
    },
    {
     "name": "stdout",
     "output_type": "stream",
     "text": [
      "Invalid choice. Try again.\n",
      "\n",
      " Student Grade Manager\n",
      "1. Add Student\n",
      "2. View All Students\n",
      "3. Exit\n"
     ]
    },
    {
     "name": "stdin",
     "output_type": "stream",
     "text": [
      "Enter choice (1/2/3): 1\n",
      "Enter student name:  Spears\n",
      "Enter score for subject 1 (0-100):  77\n",
      "Enter score for subject 2 (0-100):  79\n",
      "Enter score for subject 3 (0-100):  82\n"
     ]
    },
    {
     "name": "stdout",
     "output_type": "stream",
     "text": [
      " Spears added with average  79.33 and grade A.\n",
      "\n",
      " Student Grade Manager\n",
      "1. Add Student\n",
      "2. View All Students\n",
      "3. Exit\n"
     ]
    },
    {
     "name": "stdin",
     "output_type": "stream",
     "text": [
      "Enter choice (1/2/3): 2\n"
     ]
    },
    {
     "name": "stdout",
     "output_type": "stream",
     "text": [
      "\n",
      " Student Report\n",
      "----------------\n",
      " Kaps: Scores=[64, 48, 57] | Avg= 56.33 | Grade=C\n",
      " Spears: Scores=[77, 79, 82] | Avg= 79.33 | Grade=A\n",
      "\n",
      " Student Grade Manager\n",
      "1. Add Student\n",
      "2. View All Students\n",
      "3. Exit\n"
     ]
    },
    {
     "name": "stdin",
     "output_type": "stream",
     "text": [
      "Enter choice (1/2/3): 3\n"
     ]
    },
    {
     "name": "stdout",
     "output_type": "stream",
     "text": [
      "Goodbye\n"
     ]
    }
   ],
   "source": [
    "students = [] # list to store student dictionaries\n",
    "running = True\n",
    "\n",
    "while running:\n",
    "    print(\"\\n Student Grade Manager\")\n",
    "    print(\"1. Add Student\")\n",
    "    print(\"2. View All Students\")\n",
    "    print(\"3. Exit\")\n",
    "\n",
    "    choice = input(\"Enter choice (1/2/3):\")\n",
    "\n",
    "    if choice == \"1\":\n",
    "        name = input(\"Enter student name: \")\n",
    "\n",
    "        scores = []\n",
    "        for i in range(1, 4): # Enter subjects\n",
    "            while True:\n",
    "                raw = input(f\"Enter score for subject {i} (0-100): \")\n",
    "                if raw.isdigit(): \n",
    "                    score = int(raw)\n",
    "                    if 0 <= score <= 100:\n",
    "                        scores.append(score)\n",
    "                        break\n",
    "                print(\"Invalid score! Please enter a number between 0 and 100.\")\n",
    "        \n",
    "        avg, grade = calculate_grade(*scores)\n",
    "        student = {\"name\": name, \"scores\": scores, \"average\": avg, \"grade\": grade}\n",
    "        students.append(student)\n",
    "        print(f\" {name} added with average {avg: .2f} and grade {grade}.\")\n",
    "        \n",
    "    elif choice == \"2\":\n",
    "        if not students:\n",
    "             print(\"No students yet.\")\n",
    "        else:   \n",
    "            print(\"\\n Student Report\")\n",
    "            print(\"----------------\")\n",
    "            for  s in students:\n",
    "                scores_text = \", \".join(str(x) for x in s[\"scores\"])\n",
    "                print(f\" {s['name']}: Scores=[{scores_text}] | Avg={s['average']: .2f} | Grade={s['grade']}\")\n",
    "        \n",
    "    elif choice == \"3\":\n",
    "        print(\"Goodbye\")\n",
    "        running = False\n",
    "    else:\n",
    "        print(\"Invalid choice. Try again.\")"
   ]
  },
  {
   "cell_type": "markdown",
   "id": "f3fe95c6-a345-41ff-8cb9-8527bafae740",
   "metadata": {},
   "source": [
    "## Putting it all together"
   ]
  },
  {
   "cell_type": "code",
   "execution_count": null,
   "id": "3a2c8274-d47d-4b9f-9a82-2aa141c454d2",
   "metadata": {},
   "outputs": [],
   "source": [
    "def calculate_grade(*scores):\n",
    "    # Takes any number of scores, returns average and grade\n",
    "    average = sum(scores)/ len(scores)\n",
    "\n",
    "    # Conditionals\n",
    "    if average >= 70:\n",
    "        grade = \"A\"\n",
    "    elif average >= 60:\n",
    "        grade = \"B\"\n",
    "    elif average >= 50:\n",
    "        grade = \"C\"\n",
    "    elif average >= 40:\n",
    "        grade = \"D\"\n",
    "    else:\n",
    "        grade = \"F\"\n",
    "\n",
    "    return average, grade\n",
    "\n",
    "students = [] # list to store student dictionaries\n",
    "running = True\n",
    "\n",
    "while running:\n",
    "    print(\"\\n 🎓Student Grade Manager\")\n",
    "    print(\"1. Add Student\")\n",
    "    print(\"2. View All Students\")\n",
    "    print(\"3. Exit\")\n",
    "\n",
    "    choice = input(\"Enter choice (1/2/3):\")\n",
    "\n",
    "    if choice == \"1\":\n",
    "        name = input(\"Enter student name: \")\n",
    "\n",
    "        scores = []\n",
    "        for i in range(1, 4): # Range for 3 subjects\n",
    "            while True:\n",
    "                raw = input(f\"Enter score for subject {i} (0-100): \")\n",
    "                if raw.isdigit(): \n",
    "                    score = int(raw)\n",
    "                    if 0 <= score <= 100:\n",
    "                        scores.append(score)\n",
    "                        break\n",
    "                print(\"Invalid score! Please enter a number between 0 and 100.\")\n",
    "        \n",
    "        avg, grade = calculate_grade(*scores)\n",
    "        student = {\"name\": name, \"scores\": scores, \"average\": avg, \"grade\": grade}\n",
    "        students.append(student)\n",
    "        print(f\" {name} added with average {avg: .2f} and grade {grade}.\")\n",
    "        \n",
    "    elif choice == \"2\":\n",
    "        if not students:\n",
    "             print(\"No students yet.\")\n",
    "        else:   \n",
    "            print(\"\\n Student Report\")\n",
    "            print(\"----------------\")\n",
    "            for  s in students:\n",
    "                scores_text = \", \".join(str(x) for x in s[\"scores\"])\n",
    "                print(f\" {s['name']}: Scores=[{scores_text}] | Avg={s['average']: .2f} | Grade={s['grade']}\")\n",
    "        \n",
    "    elif choice == \"3\":\n",
    "        print(\"Goodbye\")\n",
    "        running = False\n",
    "    else:\n",
    "        print(\"Invalid choice. Try again.\") "
   ]
  },
  {
   "cell_type": "code",
   "execution_count": null,
   "id": "989e38f5-b95d-45cc-930f-6e5c2eb77b4c",
   "metadata": {},
   "outputs": [],
   "source": []
  },
  {
   "cell_type": "code",
   "execution_count": null,
   "id": "b21320ad-481a-4115-8a82-e80457f39c29",
   "metadata": {},
   "outputs": [],
   "source": []
  },
  {
   "cell_type": "code",
   "execution_count": null,
   "id": "74d5f9a2-9d61-4312-8845-43d99df3ce61",
   "metadata": {},
   "outputs": [],
   "source": []
  },
  {
   "cell_type": "code",
   "execution_count": null,
   "id": "6919e492-7743-49cc-9b0d-d660b241e8f9",
   "metadata": {},
   "outputs": [],
   "source": []
  }
 ],
 "metadata": {
  "kernelspec": {
   "display_name": "Python [conda env:base] *",
   "language": "python",
   "name": "conda-base-py"
  },
  "language_info": {
   "codemirror_mode": {
    "name": "ipython",
    "version": 3
   },
   "file_extension": ".py",
   "mimetype": "text/x-python",
   "name": "python",
   "nbconvert_exporter": "python",
   "pygments_lexer": "ipython3",
   "version": "3.13.5"
  }
 },
 "nbformat": 4,
 "nbformat_minor": 5
}
