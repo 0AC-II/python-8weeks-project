{
 "cells": [
  {
   "cell_type": "markdown",
   "id": "549022f6-57b7-48e7-8953-de6e1301b071",
   "metadata": {},
   "source": [
    "# Personal Library Manager"
   ]
  },
  {
   "cell_type": "markdown",
   "id": "45c8d3e9-171c-45b5-9a52-388af2b9cf1f",
   "metadata": {},
   "source": [
    "## A simple program to keep track of books you’ve read or want to read."
   ]
  },
  {
   "cell_type": "markdown",
   "id": "6fdfaa47-9c1a-459d-ae53-bb2735c0132a",
   "metadata": {},
   "source": [
    "### Features\n",
    "\n",
    "1. Store books in a list of dictionaries\n",
    "\n",
    "2. Each dictionary has keys: \"title\", \"author\", \"year\", \"status\" (Read/Not Read).\n",
    "\n",
    "3. Add a new book.\n",
    "\n",
    "4. Display all books.\n",
    "\n",
    "5. Search for a book by title.\n",
    "\n",
    "6. Sort books by year of publication."
   ]
  },
  {
   "cell_type": "raw",
   "id": "1463e5d0-116a-4a00-b780-cfe71ea60754",
   "metadata": {},
   "source": []
  },
  {
   "cell_type": "markdown",
   "id": "9a92d7f8-4907-4d54-9487-28c0fdff19a7",
   "metadata": {},
   "source": [
    "### Creating the list of dictionaries"
   ]
  },
  {
   "cell_type": "code",
   "execution_count": 6,
   "id": "dc6e9e30-b918-4af4-85bd-7ab2e46656bc",
   "metadata": {},
   "outputs": [],
   "source": [
    "books = [\n",
    "    {\"title\": \"Atomic Habits\", \"author\": \"James Clear\", \"year\": 2018, \"status\": \"Read\"},\n",
    "    {\"title\": \"Deep Work\", \"author\": \"Cal Newport\", \"year\": 2016, \"status\": \"Not Read\"}\n",
    "]"
   ]
  },
  {
   "cell_type": "code",
   "execution_count": 7,
   "id": "eba8bc90-f0f2-41ef-bf4d-d08e52437590",
   "metadata": {},
   "outputs": [
    {
     "name": "stdout",
     "output_type": "stream",
     "text": [
      "[{'title': 'Atomic Habits', 'author': 'James Clear', 'year': 2018, 'status': 'Read'}, {'title': 'Deep Work', 'author': 'Cal Newport', 'year': 2016, 'status': 'Not Read'}]\n"
     ]
    }
   ],
   "source": [
    "print(books)"
   ]
  },
  {
   "cell_type": "code",
   "execution_count": null,
   "id": "77d2b486-38cc-4812-9462-98a5c9533dc9",
   "metadata": {},
   "outputs": [],
   "source": []
  },
  {
   "cell_type": "markdown",
   "id": "5e35ecd2-8652-4496-bee9-330ba796d1fa",
   "metadata": {},
   "source": [
    "### Adding a new book"
   ]
  },
  {
   "cell_type": "code",
   "execution_count": 8,
   "id": "43fe9c14-2cf9-4a90-9cb8-ebec9343b454",
   "metadata": {},
   "outputs": [],
   "source": [
    "new_book = {\"title\": \"The Alchemist\", \"author\": \"Paulo Coelho\", \"year\": 1988, \"status\": \"Read\"}\n",
    "books.append(new_book)"
   ]
  },
  {
   "cell_type": "code",
   "execution_count": 9,
   "id": "5a3aad23-d9f9-49c5-bfd7-c89f5548ce4d",
   "metadata": {},
   "outputs": [
    {
     "name": "stdout",
     "output_type": "stream",
     "text": [
      "[{'title': 'Atomic Habits', 'author': 'James Clear', 'year': 2018, 'status': 'Read'}, {'title': 'Deep Work', 'author': 'Cal Newport', 'year': 2016, 'status': 'Not Read'}, {'title': 'The Alchemist', 'author': 'Paulo Coelho', 'year': 1988, 'status': 'Read'}]\n"
     ]
    }
   ],
   "source": [
    "print(books)"
   ]
  },
  {
   "cell_type": "code",
   "execution_count": null,
   "id": "18fc9265-a9d2-4733-b5f1-7f6986eee975",
   "metadata": {},
   "outputs": [],
   "source": []
  },
  {
   "cell_type": "markdown",
   "id": "dbbca255-ab9a-4c00-9f42-8c328f15113a",
   "metadata": {},
   "source": [
    "### Display all books"
   ]
  },
  {
   "cell_type": "markdown",
   "id": "b3138491-0e73-4c17-98ff-e6ae0a513a24",
   "metadata": {},
   "source": [
    "To display all books, i'll make use of a \"for\" loop"
   ]
  },
  {
   "cell_type": "code",
   "execution_count": 10,
   "id": "4b755119-69f3-4ee9-9906-d1e7d95eff6a",
   "metadata": {},
   "outputs": [
    {
     "name": "stdout",
     "output_type": "stream",
     "text": [
      "Atomic Habits by James Clear (2018) - Read\n",
      "Deep Work by Cal Newport (2016) - Not Read\n",
      "The Alchemist by Paulo Coelho (1988) - Read\n"
     ]
    }
   ],
   "source": [
    "for b in books:\n",
    "    print(f\"{b['title']} by {b['author']} ({b['year']}) - {b['status']}\")"
   ]
  },
  {
   "cell_type": "markdown",
   "id": "96b64df9-b524-4da7-8207-e4aece5225df",
   "metadata": {},
   "source": [
    "To make it more presentable, i'll make use of a print function before the \"for\" loop"
   ]
  },
  {
   "cell_type": "code",
   "execution_count": 15,
   "id": "6a15d200-2277-424e-972b-23a11942a971",
   "metadata": {},
   "outputs": [
    {
     "name": "stdout",
     "output_type": "stream",
     "text": [
      "\n",
      "===== My Library =====\n",
      "Atomic Habits by James Clear (2018) - Read\n",
      "Deep Work by Cal Newport (2016) - Not Read\n",
      "The Alchemist by Paulo Coelho (1988) - Read\n"
     ]
    }
   ],
   "source": [
    "print(\"\\n===== My Library =====\")\n",
    "for b in books:\n",
    "    print(f\"{b['title']} by {b['author']} ({b['year']}) - {b['status']}\")"
   ]
  },
  {
   "cell_type": "code",
   "execution_count": null,
   "id": "5b420b23-80fa-42f3-a36c-f55fe00a5854",
   "metadata": {},
   "outputs": [],
   "source": []
  },
  {
   "cell_type": "markdown",
   "id": "15e8b43e-9a24-4970-99a3-cd202f42a730",
   "metadata": {},
   "source": [
    "### Search for a book"
   ]
  },
  {
   "cell_type": "markdown",
   "id": "bc90f0f3-0869-491e-9fed-8c14063f9b32",
   "metadata": {},
   "source": [
    "This is going to make use of a conditional statement inside a \"for\" loop"
   ]
  },
  {
   "cell_type": "code",
   "execution_count": 28,
   "id": "e9404f5d-a7b8-4de0-bdb4-950e80421807",
   "metadata": {},
   "outputs": [
    {
     "name": "stdout",
     "output_type": "stream",
     "text": [
      "\n",
      "✅ Found: Deep Work (Not Read)\n"
     ]
    }
   ],
   "source": [
    "search = \"Deep Work\" #title of book to be searched for\n",
    "for b in books:\n",
    "    if b[\"title\"] == search:\n",
    "        print(f\"\\n✅ Found: {b['title']} ({b['status']})\")"
   ]
  },
  {
   "cell_type": "code",
   "execution_count": null,
   "id": "4b75530b-a956-4dc4-ac8a-301ad26958f2",
   "metadata": {},
   "outputs": [],
   "source": []
  },
  {
   "cell_type": "markdown",
   "id": "38a16f2e-df8f-410e-809d-f2e0fa201188",
   "metadata": {},
   "source": [
    "### Sort books by year"
   ]
  },
  {
   "cell_type": "code",
   "execution_count": null,
   "id": "bbb3bebf-f22e-43c7-ad26-090e86d4c8b4",
   "metadata": {},
   "outputs": [],
   "source": []
  },
  {
   "cell_type": "markdown",
   "id": "286af2ea-3041-4f70-900e-51b48c855fcd",
   "metadata": {},
   "source": [
    "Creating a function to get the year each book"
   ]
  },
  {
   "cell_type": "code",
   "execution_count": 30,
   "id": "019643ef-2ddc-4f3e-a68a-cd170575a95b",
   "metadata": {},
   "outputs": [],
   "source": [
    "def get_year(book):\n",
    "    return book[\"year\"]"
   ]
  },
  {
   "cell_type": "code",
   "execution_count": 35,
   "id": "f2ac3eb2-f06e-4ba3-b91e-bba6c609b19c",
   "metadata": {
    "scrolled": true
   },
   "outputs": [
    {
     "name": "stdout",
     "output_type": "stream",
     "text": [
      "2016\n"
     ]
    }
   ],
   "source": [
    "# Usage\n",
    "book = {\"title\": \"Deep Work\", \"author\": \"Cal Newport\", \"year\": 2016}\n",
    "print(get_year(book))"
   ]
  },
  {
   "cell_type": "markdown",
   "id": "139120dc-a548-4371-8930-6e33ea2f2dd8",
   "metadata": {},
   "source": [
    "#### Sorting"
   ]
  },
  {
   "cell_type": "code",
   "execution_count": 37,
   "id": "090077aa-55d1-4bef-b668-c47744bda0a6",
   "metadata": {},
   "outputs": [
    {
     "name": "stdout",
     "output_type": "stream",
     "text": [
      "\n",
      "--- Books Sorted by Year ---\n",
      "1988 - The Alchemist\n",
      "2016 - Deep Work\n",
      "2018 - Atomic Habits\n"
     ]
    }
   ],
   "source": [
    "def get_year(book):\n",
    "    return book[\"year\"]\n",
    "\n",
    "sorted_books = sorted(books, key=get_year) # The sorted() function returns a new sorted list\n",
    "\n",
    "print(\"\\n--- Books Sorted by Year ---\")\n",
    "for b in sorted_books:\n",
    "    print(f\"{b['year']} - {b['title']}\")"
   ]
  },
  {
   "cell_type": "code",
   "execution_count": 38,
   "id": "45de5fa6-daa6-4480-9e95-6613c72982c2",
   "metadata": {},
   "outputs": [
    {
     "data": {
      "text/plain": [
       "[{'title': 'The Alchemist',\n",
       "  'author': 'Paulo Coelho',\n",
       "  'year': 1988,\n",
       "  'status': 'Read'},\n",
       " {'title': 'Deep Work',\n",
       "  'author': 'Cal Newport',\n",
       "  'year': 2016,\n",
       "  'status': 'Not Read'},\n",
       " {'title': 'Atomic Habits',\n",
       "  'author': 'James Clear',\n",
       "  'year': 2018,\n",
       "  'status': 'Read'}]"
      ]
     },
     "execution_count": 38,
     "metadata": {},
     "output_type": "execute_result"
    }
   ],
   "source": [
    "sorted_books"
   ]
  },
  {
   "cell_type": "code",
   "execution_count": null,
   "id": "02a17e03-f8fe-4669-9754-c2b657ced503",
   "metadata": {},
   "outputs": [],
   "source": []
  }
 ],
 "metadata": {
  "kernelspec": {
   "display_name": "Python [conda env:base] *",
   "language": "python",
   "name": "conda-base-py"
  },
  "language_info": {
   "codemirror_mode": {
    "name": "ipython",
    "version": 3
   },
   "file_extension": ".py",
   "mimetype": "text/x-python",
   "name": "python",
   "nbconvert_exporter": "python",
   "pygments_lexer": "ipython3",
   "version": "3.13.5"
  }
 },
 "nbformat": 4,
 "nbformat_minor": 5
}
