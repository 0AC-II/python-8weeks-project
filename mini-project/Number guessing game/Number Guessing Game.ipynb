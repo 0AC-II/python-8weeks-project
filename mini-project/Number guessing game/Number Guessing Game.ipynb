{
 "cells": [
  {
   "cell_type": "markdown",
   "id": "db56ad55-9c3f-48b7-80d8-ac58d6434d02",
   "metadata": {},
   "source": [
    "# Number Guessing Game (NGG)"
   ]
  },
  {
   "cell_type": "markdown",
   "id": "49f50a1c-cd65-455e-93a0-24ff56167b61",
   "metadata": {},
   "source": [
    "- The program randomly picks a number between 1 and 20.\n",
    "\n",
    "- The user tries to guess the number.\n",
    "\n",
    "- The program tells the user if the guess is too high or too low.\n",
    "\n",
    "- The game continues until the user guesses correctly or attempts are exhausted.\n",
    "\n",
    "- At the end, the program shows how many tries it took."
   ]
  },
  {
   "cell_type": "code",
   "execution_count": null,
   "id": "5ec77f5c-9241-407a-870a-39a58e240703",
   "metadata": {},
   "outputs": [],
   "source": []
  },
  {
   "cell_type": "markdown",
   "id": "0564611d-14f8-418f-8044-855e13fb5305",
   "metadata": {},
   "source": [
    "## Building the game"
   ]
  },
  {
   "cell_type": "markdown",
   "id": "127f4a22-1599-42d3-bb56-25912f652417",
   "metadata": {},
   "source": [
    "### The welcome message"
   ]
  },
  {
   "cell_type": "code",
   "execution_count": 2,
   "id": "35a991c4-054c-407b-b3ea-29fc78b0e398",
   "metadata": {},
   "outputs": [
    {
     "name": "stdout",
     "output_type": "stream",
     "text": [
      "🎲 Welcome to the Number Guessing Game!\n",
      "I'm thinking of a number between 1 and 10...\n"
     ]
    }
   ],
   "source": [
    "print(\"🎲 Welcome to the Number Guessing Game!\")\n",
    "print(\"I'm thinking of a number between 1 and 10...\")"
   ]
  },
  {
   "cell_type": "markdown",
   "id": "35ebfb2c-3110-46de-a5c8-7acc66cceb81",
   "metadata": {},
   "source": [
    "### Secret number, guessed number and conditional statements"
   ]
  },
  {
   "cell_type": "code",
   "execution_count": 17,
   "id": "749d59dd-1efe-47b2-957c-424603f6e56f",
   "metadata": {},
   "outputs": [
    {
     "name": "stdout",
     "output_type": "stream",
     "text": [
      "Oops, low!!! Guess a higher number\n"
     ]
    }
   ],
   "source": [
    "secret_number = 7 #Secret number\n",
    "\n",
    "guess = 3 # Input guess\n",
    "\n",
    "# conditions\n",
    "if guess == secret_number:\n",
    "    print(\"Welldone! You have guessed correctly\")\n",
    "elif guess > secret_number:\n",
    "        print(\"Oops, high!!! Guess a lower number\")\n",
    "else: \n",
    "    print(\"Oops, low!!! Guess a higher number\")"
   ]
  },
  {
   "cell_type": "markdown",
   "id": "49618a1e-d6af-47da-944c-bd211f15ebe2",
   "metadata": {},
   "source": [
    "#### Limitations of the above version\n",
    "\n",
    "- The game is not fun enough\n",
    "- Having to manually input the secret number\n",
    "- The secret number is not secret"
   ]
  },
  {
   "cell_type": "raw",
   "id": "48996583-df49-48b5-850f-0a9e22f623ae",
   "metadata": {},
   "source": []
  },
  {
   "cell_type": "markdown",
   "id": "b37ff36e-5af1-4d95-bb6c-c648660ba725",
   "metadata": {},
   "source": [
    "## Improving the game: NGG Version 2"
   ]
  },
  {
   "cell_type": "markdown",
   "id": "0154683f-4de1-42f8-8c10-6684b904a623",
   "metadata": {},
   "source": [
    "### The secret number\n",
    "Generating a random secret number which no one knows"
   ]
  },
  {
   "cell_type": "code",
   "execution_count": 4,
   "id": "d56ac5c4-86a5-46dd-8bd5-fe73da48e387",
   "metadata": {},
   "outputs": [],
   "source": [
    "import random\n",
    "\n",
    "# using the randint() function\n",
    "secret_number = random.randint(1, 10) # with this, a random number is selected as the secret number"
   ]
  },
  {
   "cell_type": "markdown",
   "id": "064e1928-d835-49a1-a1ac-10786aed2960",
   "metadata": {},
   "source": [
    "Also making use of the input() function for user input and int() for converting strings to numbers players can now input their guesses"
   ]
  },
  {
   "cell_type": "code",
   "execution_count": 55,
   "id": "546aa2be-b335-4636-a317-1d488b0adbc3",
   "metadata": {
    "scrolled": true
   },
   "outputs": [
    {
     "name": "stdout",
     "output_type": "stream",
     "text": [
      "\n",
      "🎲 Welcome to the Number Guessing Game!\n",
      "\n",
      "I'm thinking of a number between 1 and 10...\n",
      "\n"
     ]
    },
    {
     "name": "stdin",
     "output_type": "stream",
     "text": [
      "Take a guess:  0\n"
     ]
    },
    {
     "name": "stdout",
     "output_type": "stream",
     "text": [
      "\n",
      "Oops, low!!! Guess a higher number\n"
     ]
    }
   ],
   "source": [
    "print(\"\\n🎲 Welcome to the Number Guessing Game!\")\n",
    "print(\"\\nI'm thinking of a number between 1 and 10...\")\n",
    "print()\n",
    "secret_number = random.randint(1, 10)\n",
    "\n",
    "guess = int(input(\"Take a guess: \")) \n",
    "print()\n",
    "if guess == secret_number:\n",
    "    print(\"Welldone! You have guessed correctly\")\n",
    "elif guess > secret_number:\n",
    "        print(\"Oops, high!!! Guess a lower number\")\n",
    "else: \n",
    "    print(\"Oops, low!!! Guess a higher number\")"
   ]
  },
  {
   "cell_type": "markdown",
   "id": "bcdb04a5-2cf5-4e3d-a894-e256a9ff95f2",
   "metadata": {},
   "source": [
    "### Creating number of attempts"
   ]
  },
  {
   "cell_type": "code",
   "execution_count": 56,
   "id": "e4f8947c-e588-4284-97f5-64223af89649",
   "metadata": {},
   "outputs": [
    {
     "name": "stdout",
     "output_type": "stream",
     "text": [
      "\n",
      "🎲 Welcome to the Number Guessing Game!\n",
      "\n",
      "I'm thinking of a number between 1 and 10...\n",
      "\n"
     ]
    },
    {
     "name": "stdin",
     "output_type": "stream",
     "text": [
      "Take a guess:  5\n"
     ]
    },
    {
     "name": "stdout",
     "output_type": "stream",
     "text": [
      "\n",
      "Oops, high!!! Guess a lower number. You have 2 attempts left\n"
     ]
    },
    {
     "name": "stdin",
     "output_type": "stream",
     "text": [
      "Take a guess:  7\n"
     ]
    },
    {
     "name": "stdout",
     "output_type": "stream",
     "text": [
      "\n",
      "Oops, high!!! Guess a lower number. You have 1 attempts left\n"
     ]
    },
    {
     "name": "stdin",
     "output_type": "stream",
     "text": [
      "Take a guess:  8\n"
     ]
    },
    {
     "name": "stdout",
     "output_type": "stream",
     "text": [
      "\n",
      "Oops, high!!! Guess a lower number. You have 0 attempts left\n"
     ]
    }
   ],
   "source": [
    "print(\"\\n🎲 Welcome to the Number Guessing Game!\")\n",
    "print(\"\\nI'm thinking of a number between 1 and 10...\")\n",
    "print()\n",
    "secret_number = random.randint(1, 10)\n",
    "\n",
    "for attempt in range(1, 4):\n",
    "    guess = int(input(\"Take a guess: \")) \n",
    "    print()\n",
    "    if guess == secret_number:\n",
    "        print(\"Welldone! You have guessed correctly\")\n",
    "    elif guess > secret_number:\n",
    "            print(\"Oops, high!!! Guess a lower number. You have\", 3- attempt, \"attempts left\")\n",
    "    else: \n",
    "        print(\"Oops, low!!! Guess a higher number. You have\", 3- attempt, \"attempts left\")"
   ]
  },
  {
   "cell_type": "markdown",
   "id": "0af9a4ec-4ed0-4433-8bbc-dd7c7d919071",
   "metadata": {},
   "source": [
    "#### Limitations of version 2\n",
    "- After guessing correctly, game doesn't end until it counts 3 attempts\n",
    "- A closing message is needed after all attempts have been exhausted"
   ]
  },
  {
   "cell_type": "code",
   "execution_count": null,
   "id": "c545c7d2-e489-45ea-bc5f-ae5693b94b11",
   "metadata": {},
   "outputs": [],
   "source": []
  },
  {
   "cell_type": "markdown",
   "id": "0a0acd22-0507-4499-bb7b-01461f745c3b",
   "metadata": {},
   "source": [
    "## Improving the game: NGG Version 3"
   ]
  },
  {
   "cell_type": "markdown",
   "id": "c3852035-c5b1-4ccc-8ae5-6edcf50ebae6",
   "metadata": {},
   "source": [
    "### Adding the closing message"
   ]
  },
  {
   "cell_type": "code",
   "execution_count": 57,
   "id": "bf27a3bb-6de8-408b-a250-a99b5c59e844",
   "metadata": {},
   "outputs": [
    {
     "name": "stdout",
     "output_type": "stream",
     "text": [
      "\n",
      "🎲 Welcome to the Number Guessing Game!\n",
      "\n",
      "I'm thinking of a number between 1 and 10...\n",
      "\n"
     ]
    },
    {
     "name": "stdin",
     "output_type": "stream",
     "text": [
      "Take a guess:  0\n"
     ]
    },
    {
     "name": "stdout",
     "output_type": "stream",
     "text": [
      "\n",
      "Oops, low!!! Guess a higher number. You have 2 attempts left\n"
     ]
    },
    {
     "name": "stdin",
     "output_type": "stream",
     "text": [
      "Take a guess:  3\n"
     ]
    },
    {
     "name": "stdout",
     "output_type": "stream",
     "text": [
      "\n",
      "Oops, low!!! Guess a higher number. You have 1 attempts left\n"
     ]
    },
    {
     "name": "stdin",
     "output_type": "stream",
     "text": [
      "Take a guess:  5\n"
     ]
    },
    {
     "name": "stdout",
     "output_type": "stream",
     "text": [
      "\n",
      "Oops, low!!! Guess a higher number. You have 0 attempts left\n",
      "\n",
      "Sorry, Game Over You have exhausted your attempts\n",
      "\n",
      "The Secret number is: 6\n",
      "\n",
      "Better luck next time\n"
     ]
    }
   ],
   "source": [
    "print(\"\\n🎲 Welcome to the Number Guessing Game!\")\n",
    "print(\"\\nI'm thinking of a number between 1 and 10...\")\n",
    "print()\n",
    "secret_number = random.randint(1, 10)\n",
    "\n",
    "for attempt in range(1, 4):\n",
    "    guess = int(input(\"Take a guess: \")) \n",
    "    print()\n",
    "    if guess == secret_number:\n",
    "        print(\"Welldone! You have guessed correctly\")\n",
    "    elif guess > secret_number:\n",
    "            print(\"Oops, high!!! Guess a lower number. You have\", 3- attempt, \"attempts left\")\n",
    "    else: \n",
    "        print(\"Oops, low!!! Guess a higher number. You have\", 3- attempt, \"attempts left\")\n",
    "\n",
    "print(\"\\nSorry, Game Over\", \"You have exhausted your attempts\") \n",
    "print(\"\\nThe Secret number is:\", secret_number)\n",
    "print(\"\\nBetter luck next time\")"
   ]
  },
  {
   "cell_type": "code",
   "execution_count": null,
   "id": "0f113889-398c-4ae2-b371-a3ef6a8a374d",
   "metadata": {},
   "outputs": [],
   "source": []
  },
  {
   "cell_type": "markdown",
   "id": "acb9c454-94d3-4161-bbd2-224d5969febf",
   "metadata": {},
   "source": [
    "#### Issue\n",
    "Closing message shows regardless of success or not\n",
    "\n",
    "Solution: putting code into a function and returning \"none\" when player guesses correctly"
   ]
  },
  {
   "cell_type": "code",
   "execution_count": 69,
   "id": "d44ecdde-7301-4dda-b659-e26360b62cc9",
   "metadata": {},
   "outputs": [],
   "source": [
    "def ngg():\n",
    "    print(\"\\n🎲 Welcome to the Number Guessing Game!\")\n",
    "    print(\"\\nI'm thinking of a number between 1 and 10...\")\n",
    "    print()\n",
    "    secret_number = random.randint(1, 10)\n",
    "    #print(secret_number)\n",
    "    \n",
    "    for attempt in range(1, 4):\n",
    "        guess = int(input(\"Take a guess: \")) \n",
    "        print()\n",
    "        if guess == secret_number:\n",
    "            print(\"✅Super!!! You have guessed correctly.\\nYou guessed the number in\", attempt, \"attempts\")\n",
    "            return print(\"See you next time\")\n",
    "        elif guess > secret_number:\n",
    "                print(\"Oops, high!!! Guess a lower number. You have\", 3- attempt, \"attempts left\")\n",
    "        else: \n",
    "            print(\"Oops, low!!! Guess a higher number. You have\", 3- attempt, \"attempts left\")\n",
    "    \n",
    "    print(\"Sorry, Game Over\", \"You have exhausted your attempts\") \n",
    "    print(\"The Secret number is:\", secret_number)\n",
    "    print(\"Better luck next time\")"
   ]
  },
  {
   "cell_type": "code",
   "execution_count": 68,
   "id": "ae66c5e8-667b-477b-a0be-0dc9abf07439",
   "metadata": {},
   "outputs": [
    {
     "name": "stdout",
     "output_type": "stream",
     "text": [
      "\n",
      "🎲 Welcome to the Number Guessing Game!\n",
      "\n",
      "I'm thinking of a number between 1 and 10...\n",
      "\n"
     ]
    },
    {
     "name": "stdin",
     "output_type": "stream",
     "text": [
      "Take a guess:  7\n"
     ]
    },
    {
     "name": "stdout",
     "output_type": "stream",
     "text": [
      "\n",
      "Welldone! You have guessed correctly.\n",
      "You guessed the number in 1 attempts\n",
      "See you next time\n"
     ]
    }
   ],
   "source": [
    "# Function to call the game\n",
    "ngg()"
   ]
  },
  {
   "cell_type": "code",
   "execution_count": null,
   "id": "876c9aa2-f707-4be2-8cb5-1a37c88b3ec6",
   "metadata": {},
   "outputs": [],
   "source": []
  }
 ],
 "metadata": {
  "kernelspec": {
   "display_name": "Python [conda env:base] *",
   "language": "python",
   "name": "conda-base-py"
  },
  "language_info": {
   "codemirror_mode": {
    "name": "ipython",
    "version": 3
   },
   "file_extension": ".py",
   "mimetype": "text/x-python",
   "name": "python",
   "nbconvert_exporter": "python",
   "pygments_lexer": "ipython3",
   "version": "3.13.5"
  }
 },
 "nbformat": 4,
 "nbformat_minor": 5
}
