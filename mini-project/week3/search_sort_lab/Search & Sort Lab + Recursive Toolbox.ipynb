{
 "cells": [
  {
   "cell_type": "markdown",
   "id": "0aa4004e-c75d-4d0d-97b4-24196aeb085a",
   "metadata": {},
   "source": [
    "# Search & Sort Lab + Recursive Toolbox"
   ]
  },
  {
   "cell_type": "markdown",
   "id": "6e7af9ee-f158-498e-ab9e-80acb21873e5",
   "metadata": {},
   "source": [
    "I learnt search algorithms, sort algorithms and recursion.\n",
    "\n",
    "Search, sort, and recursion are foundations of data science & programming.\n",
    "\n",
    "The purpose of this project is to apply these ideas in a hands-on way. "
   ]
  },
  {
   "cell_type": "markdown",
   "id": "89851d30-fbc4-4faa-9c47-e5010032512b",
   "metadata": {},
   "source": [
    "### Goals\n",
    "- Compare efficiency (linear vs binary search).\n",
    "- Understand why sorting is needed before binary search.\n",
    "- See recursion in action (factorial, Fibonacci)."
   ]
  },
  {
   "cell_type": "markdown",
   "id": "d1918366-b715-4fe4-b8bb-239e8a7e10b2",
   "metadata": {},
   "source": [
    "### 1. Project Structure"
   ]
  },
  {
   "cell_type": "markdown",
   "id": "76917314-1f57-4025-aaa9-cd0196ec9fd4",
   "metadata": {},
   "source": [
    "The program will be menu-driven, with options for search, sort, and recursion. I'll create a skeleton menu to ensure the app runs in a loop and responds to user choices"
   ]
  },
  {
   "cell_type": "code",
   "execution_count": null,
   "id": "e6dd7bb1-d7a1-4a6c-a4e9-d0aa216fe901",
   "metadata": {},
   "outputs": [],
   "source": [
    "def main():\n",
    "    running = True\n",
    "\n",
    "    while running:\n",
    "        print(\"\\nSearch & Sort Lab + Recursive Toolbox\")\n",
    "        print(\"1. Search Algorithms\")\n",
    "        print(\"2. Sorting Algorithms\")\n",
    "        print(\"3. Recursive Functions\")\n",
    "        print(\"4. Exit\")\n",
    "\n",
    "        choice = input(\"Enter choice (1/2/3/4): \")\n",
    "\n",
    "        if choice == \"1\":\n",
    "            # Call search menu\n",
    "            pass\n",
    "        elif choice == \"2\":\n",
    "            # Call sorting menu\n",
    "            pass\n",
    "        elif choice == \"3\":\n",
    "            # Call recursion menu\n",
    "            pass\n",
    "        elif choice == \"4\":\n",
    "            running = False\n",
    "            print(\"Goodbye\")\n",
    "        else:\n",
    "            print(\"Invalid choice. Try again.\")\n",
    "            \n",
    "if __name__ == \"__main__\":\n",
    "    main()"
   ]
  },
  {
   "cell_type": "markdown",
   "id": "543edf3f-c4df-4fcd-afe7-2a780f051f1c",
   "metadata": {},
   "source": [
    "### 2. Building the Search Menu"
   ]
  },
  {
   "cell_type": "markdown",
   "id": "1890a414-1dc1-4e79-b867-b33f9529e908",
   "metadata": {},
   "source": [
    "- Search numbers using either linear or binary search\n",
    "\n",
    "  For linear search, the algorithm begins at one end of the data structure and checks each element until it finds the correct element or it reaches the end of the list\n",
    "\n",
    "  For binary search, the algorithm recursively halves the list to narrow the search"
   ]
  },
  {
   "cell_type": "code",
   "execution_count": null,
   "id": "ae11ecdc-5085-471b-98de-c06023946b18",
   "metadata": {},
   "outputs": [],
   "source": [
    "def linear_search(data, target):\n",
    "    \"\"\"Search each element one by one\"\"\"\n",
    "    for i, value in enumerate(data):\n",
    "        if value == target:\n",
    "            return i # return index if found\n",
    "    return -1 # not found\n",
    "\n",
    "def binary_search(data, target):\n",
    "    \"\"\"Search by repeatedly dividing the list in half.\n",
    "    List must be sorted.\"\"\"\n",
    "    \n",
    "    low, high = 0, len(data) - 1\n",
    "\n",
    "    while low <= high:\n",
    "        mid = (low + high) // 2\n",
    "        if data[mid] == target:\n",
    "            return mid\n",
    "        elif data[mid] < target:\n",
    "            low = mid + 1\n",
    "        else:\n",
    "            high = mid -1\n",
    "            \n",
    "    return -1 # not found\n",
    "\n",
    "def search_menu():\n",
    "    numbers = [2, 5, 7, 10, 14, 20, 25, 30]\n",
    "    print(\"\\n Search Menu\")\n",
    "    print(\"Numbers list:\", numbers)\n",
    "\n",
    "    target = int(input(\"Enter number to search: \"))\n",
    "    print(\"\\nChoose search type\")\n",
    "    print(\"1. Linear Search\")\n",
    "    print(\"2. Binary Search\")\n",
    "\n",
    "    choice = input(\"Enter choice (1/2): \")\n",
    "\n",
    "    if choice == \"1\":\n",
    "        index = linear_search(numbers, target)\n",
    "    elif choice == \"2\":\n",
    "        index = binary_search(numbers, target)\n",
    "    else:\n",
    "        print(\"Invalid choice\")\n",
    "        return\n",
    "\n",
    "    if index != -1:\n",
    "        print(f\"Found {target} at index {index}\")\n",
    "    else:\n",
    "        print(f\"{target} not found\")"
   ]
  },
  {
   "cell_type": "markdown",
   "id": "6ef54bcd-13a0-4aac-84b2-f0edd674261f",
   "metadata": {},
   "source": [
    "Not all searches are created equal. Choosing the right one depends on your data\n",
    "- Linear search is simple, step-by-step but the algorithm run-time scales with the input size.\n",
    "  \n",
    "-  Binary search is efficient but the input must be sorted for the technique to work efficiently.\n"
   ]
  },
  {
   "cell_type": "markdown",
   "id": "202cd0c1-7a3a-4c01-ba80-02d0320c8631",
   "metadata": {},
   "source": [
    "### 3. Building the Sort Menu"
   ]
  },
  {
   "cell_type": "markdown",
   "id": "f2371601-5a1c-46b4-854e-a6dbefd46519",
   "metadata": {},
   "source": [
    "- Bubble sort is a basic sorting algorithm that \"Bubbles up\" the largest element within a list to the end of the list, second the second largest to the second to the last position in the list and so on.\n",
    "  \n",
    "- Quick Sort is a recursive algorithm where we pick a pivot value from the key values in the list by which we can divide the list. Two lists are created, the algorithm then sorts these lists and joins them with the pivot in between."
   ]
  },
  {
   "cell_type": "code",
   "execution_count": null,
   "id": "3b2e74af-2f23-43a7-b907-ea36802e4af0",
   "metadata": {},
   "outputs": [],
   "source": [
    "def bubble_sort(data):\n",
    "    \"\"\"Sort using Bubble Sort\"\"\"\n",
    "    n = len(data)\n",
    "    for i in range(n):\n",
    "        for j in range(0, n-i-1):\n",
    "            if data[j] > data[j+1]: # if left number is bigger than right\n",
    "                data[j], data[j+1] = data[j+1], data[j] # swap them\n",
    "    return data\n",
    "\n",
    "def quick_sort(data):\n",
    "    \"\"\"Sort using Quick Sort (recursive)\"\"\"\n",
    "    if len(data) <= 1: # base case\n",
    "        return data\n",
    "    pivot = data[0]\n",
    "\n",
    "    # Split the list\n",
    "    left = [x for x in data[1:] if x <= pivot]\n",
    "    right = [x for x in data[1:] if x >= pivot]\n",
    "\n",
    "    # Recursive step\n",
    "    # Sort the left and right side recursively.\n",
    "    # Put them together\n",
    "    return quick_sort(left) + [pivot] + quick_sort(right)\n",
    "\n",
    "def sort_menu():\n",
    "    numbers = [25, 5,14, 2, 30, 7, 10, 20]\n",
    "    print(\"\\nSort Menu\")\n",
    "    print(\"Unsorted list:\", numbers)\n",
    "\n",
    "    print(\"\\nChoose sorting method:\")\n",
    "    print(\"1. Bubble Sort\")\n",
    "    print(\"2. Quick Sort\")\n",
    "\n",
    "    choice = input(\"Enter choice (1/2): \")\n",
    "\n",
    "    if choice == \"1\":\n",
    "        sorted_data = bubble_sort(numbers[:])\n",
    "    elif choice == \"2\":\n",
    "        sorted_data = quick_sort(numbers)\n",
    "    else:\n",
    "        print(\"Invalid choice\")\n",
    "        return\n",
    "\n",
    "    print(\"Sorted list:\", sorted_data)"
   ]
  },
  {
   "cell_type": "markdown",
   "id": "b5fbe50f-307b-4f9c-977a-ce5326f5ed89",
   "metadata": {},
   "source": [
    "Sorting is foundational in computer science and many sdvanced algorithms depend on sorted data.\n",
    "\n",
    "- Bubble Sort is slow but simple.\n",
    "\n",
    "- Quic Sort is fast and efficient for large datasets"
   ]
  },
  {
   "cell_type": "markdown",
   "id": "841fe5e8-d23a-49ad-a013-07c9a82a4818",
   "metadata": {},
   "source": [
    "### 4. Recursive Toolbox"
   ]
  },
  {
   "cell_type": "markdown",
   "id": "65b62bb1-339c-47c6-96d3-4853e2971b61",
   "metadata": {},
   "source": [
    "Recursion in computer science is used to solve problems which themselves consists of smaller versions of the same problem. \n",
    "\n",
    "- Factorial (n!)\n",
    "- Fibonacci sequence"
   ]
  },
  {
   "cell_type": "code",
   "execution_count": 11,
   "id": "7b3632ac-250e-4f6f-ab53-c4c4015d50c9",
   "metadata": {},
   "outputs": [],
   "source": [
    "def factorial(n):\n",
    "    \"\"\"Recursive factorial\"\"\"\n",
    "    if n == 0 or n == 1:\n",
    "        return 1\n",
    "    return n * factorial(n-1)\n",
    "\n",
    "def fibonacci(n):\n",
    "    \"\"\"Recursive fibonacci\"\"\"\n",
    "    if n <= 1:\n",
    "        return n\n",
    "    return fobonacci(n-1) + fibonacci(n-2)\n",
    "\n",
    "def recursion_menu():\n",
    "    print(\"\\nRecursive Toolbox\")\n",
    "    print(\"1. Factorial\")\n",
    "    print(\"2. Fibonacci\")\n",
    "\n",
    "    choice = input(\"Enter choice (1/2/3): \")\n",
    "\n",
    "    if choice == \"1\":\n",
    "        n = int(input(\"Enter a number: \"))\n",
    "        print(f\"Factorial of {n} = {factorial(n)}\")\n",
    "\n",
    "    elif choice == \"2\":\n",
    "        n = int(input(\"Enter a number: \"))\n",
    "        print(f\"Fibonacci({n}) = {fibonacci(n)}\")\n",
    "\n",
    "    else:\n",
    "        print(\"Invalid choice\")"
   ]
  },
  {
   "cell_type": "markdown",
   "id": "c056be68-8a70-4cd7-b4f2-c07486507981",
   "metadata": {},
   "source": [
    "Recursion breaks big problems into smaller ones but it requires careful thinking to avoid infinite loops."
   ]
  },
  {
   "cell_type": "markdown",
   "id": "6ce11372-fcc7-433d-83b2-1d64a78c36fd",
   "metadata": {},
   "source": [
    "### Putting it all together"
   ]
  },
  {
   "cell_type": "code",
   "execution_count": 10,
   "id": "96680fc6-95fa-42d4-b008-04e5d643daa1",
   "metadata": {},
   "outputs": [
    {
     "name": "stdout",
     "output_type": "stream",
     "text": [
      "\n",
      "Search & Sort Lab + Recursive Toolbox\n",
      "1. Search Algorithms\n",
      "2. Sorting Algorithms\n",
      "3. Recursive Functions\n",
      "4. Exit\n"
     ]
    },
    {
     "name": "stdin",
     "output_type": "stream",
     "text": [
      "Enter choice (1/2/3/4):  1\n"
     ]
    },
    {
     "name": "stdout",
     "output_type": "stream",
     "text": [
      "\n",
      " Search Menu\n",
      "Numbers list: [2, 5, 7, 10, 14, 20, 25, 30]\n"
     ]
    },
    {
     "name": "stdin",
     "output_type": "stream",
     "text": [
      "Enter number to search:  7\n"
     ]
    },
    {
     "name": "stdout",
     "output_type": "stream",
     "text": [
      "\n",
      "Choose search type\n",
      "1. Linear Search\n",
      "2. Binary Search\n"
     ]
    },
    {
     "name": "stdin",
     "output_type": "stream",
     "text": [
      "Enter choice (1/2):  1\n"
     ]
    },
    {
     "name": "stdout",
     "output_type": "stream",
     "text": [
      "Found 7 at index 2\n",
      "\n",
      "Search & Sort Lab + Recursive Toolbox\n",
      "1. Search Algorithms\n",
      "2. Sorting Algorithms\n",
      "3. Recursive Functions\n",
      "4. Exit\n"
     ]
    },
    {
     "name": "stdin",
     "output_type": "stream",
     "text": [
      "Enter choice (1/2/3/4):  1\n"
     ]
    },
    {
     "name": "stdout",
     "output_type": "stream",
     "text": [
      "\n",
      " Search Menu\n",
      "Numbers list: [2, 5, 7, 10, 14, 20, 25, 30]\n"
     ]
    },
    {
     "name": "stdin",
     "output_type": "stream",
     "text": [
      "Enter number to search:  7\n"
     ]
    },
    {
     "name": "stdout",
     "output_type": "stream",
     "text": [
      "\n",
      "Choose search type\n",
      "1. Linear Search\n",
      "2. Binary Search\n"
     ]
    },
    {
     "name": "stdin",
     "output_type": "stream",
     "text": [
      "Enter choice (1/2):  2\n"
     ]
    },
    {
     "name": "stdout",
     "output_type": "stream",
     "text": [
      "Found 7 at index 2\n",
      "\n",
      "Search & Sort Lab + Recursive Toolbox\n",
      "1. Search Algorithms\n",
      "2. Sorting Algorithms\n",
      "3. Recursive Functions\n",
      "4. Exit\n"
     ]
    },
    {
     "name": "stdin",
     "output_type": "stream",
     "text": [
      "Enter choice (1/2/3/4):  2\n"
     ]
    },
    {
     "name": "stdout",
     "output_type": "stream",
     "text": [
      "\n",
      "Sort Menu\n",
      "Unsorted list: [25, 5, 14, 2, 30, 7, 10, 20]\n",
      "\n",
      "Choose sorting method:\n",
      "1. Bubble Sort\n",
      "2. Quick Sort\n"
     ]
    },
    {
     "name": "stdin",
     "output_type": "stream",
     "text": [
      "Enter choice (1/2):  1\n"
     ]
    },
    {
     "name": "stdout",
     "output_type": "stream",
     "text": [
      "Sorted list: [2, 5, 7, 10, 14, 20, 25, 30]\n",
      "\n",
      "Search & Sort Lab + Recursive Toolbox\n",
      "1. Search Algorithms\n",
      "2. Sorting Algorithms\n",
      "3. Recursive Functions\n",
      "4. Exit\n"
     ]
    },
    {
     "name": "stdin",
     "output_type": "stream",
     "text": [
      "Enter choice (1/2/3/4):  1\n"
     ]
    },
    {
     "name": "stdout",
     "output_type": "stream",
     "text": [
      "\n",
      " Search Menu\n",
      "Numbers list: [2, 5, 7, 10, 14, 20, 25, 30]\n"
     ]
    },
    {
     "name": "stdin",
     "output_type": "stream",
     "text": [
      "Enter number to search:  1\n"
     ]
    },
    {
     "name": "stdout",
     "output_type": "stream",
     "text": [
      "\n",
      "Choose search type\n",
      "1. Linear Search\n",
      "2. Binary Search\n"
     ]
    },
    {
     "name": "stdin",
     "output_type": "stream",
     "text": [
      "Enter choice (1/2):  2\n"
     ]
    },
    {
     "name": "stdout",
     "output_type": "stream",
     "text": [
      "1 not found\n",
      "\n",
      "Search & Sort Lab + Recursive Toolbox\n",
      "1. Search Algorithms\n",
      "2. Sorting Algorithms\n",
      "3. Recursive Functions\n",
      "4. Exit\n"
     ]
    },
    {
     "name": "stdin",
     "output_type": "stream",
     "text": [
      "Enter choice (1/2/3/4):  2\n"
     ]
    },
    {
     "name": "stdout",
     "output_type": "stream",
     "text": [
      "\n",
      "Sort Menu\n",
      "Unsorted list: [25, 5, 14, 2, 30, 7, 10, 20]\n",
      "\n",
      "Choose sorting method:\n",
      "1. Bubble Sort\n",
      "2. Quick Sort\n"
     ]
    },
    {
     "name": "stdin",
     "output_type": "stream",
     "text": [
      "Enter choice (1/2):  1\n"
     ]
    },
    {
     "name": "stdout",
     "output_type": "stream",
     "text": [
      "Sorted list: [2, 5, 7, 10, 14, 20, 25, 30]\n",
      "\n",
      "Search & Sort Lab + Recursive Toolbox\n",
      "1. Search Algorithms\n",
      "2. Sorting Algorithms\n",
      "3. Recursive Functions\n",
      "4. Exit\n"
     ]
    },
    {
     "name": "stdin",
     "output_type": "stream",
     "text": [
      "Enter choice (1/2/3/4):  4\n"
     ]
    },
    {
     "name": "stdout",
     "output_type": "stream",
     "text": [
      "Goodbye\n"
     ]
    }
   ],
   "source": [
    "def main():\n",
    "    running = True\n",
    "\n",
    "    while running:\n",
    "        print(\"\\nSearch & Sort Lab + Recursive Toolbox\")\n",
    "        print(\"1. Search Algorithms\")\n",
    "        print(\"2. Sorting Algorithms\")\n",
    "        print(\"3. Recursive Functions\")\n",
    "        print(\"4. Exit\")\n",
    "\n",
    "        choice = input(\"Enter choice (1/2/3/4): \")\n",
    "\n",
    "        if choice == \"1\":\n",
    "            search_menu()\n",
    "        elif choice == \"2\":\n",
    "            sort_menu()\n",
    "        elif choice == \"3\":\n",
    "            recursion_menu()\n",
    "        elif choice == \"4\":\n",
    "            running = False\n",
    "            print(\"Goodbye\")\n",
    "        else:\n",
    "            print(\"Invalid choice. Try again.\")\n",
    "            \n",
    "if __name__ == \"__main__\":\n",
    "    main()\n",
    "\n",
    "\n",
    "# Search menu\n",
    "# ===============================\n",
    "def linear_search(data, target):\n",
    "    \"\"\"Search each element one by one\"\"\"\n",
    "    for i, value in enumerate(data):\n",
    "        if value == target:\n",
    "            return i # return index if found\n",
    "    return -1 # not found\n",
    "\n",
    "def binary_search(data, target):\n",
    "    \"\"\"Search by repeatedly dividing the list in half.\n",
    "    List must be sorted for a binary search technique to work efficiently\"\"\"\n",
    "    \n",
    "    low, high = 0, len(data) - 1\n",
    "\n",
    "    while low <= high:\n",
    "        mid = (low + high) // 2\n",
    "        if data[mid] == target:\n",
    "            return mid\n",
    "        elif data[mid] < target:\n",
    "            low = mid + 1\n",
    "        else:\n",
    "            high = mid -1\n",
    "            \n",
    "    return -1 # not found\n",
    "\n",
    "def search_menu():\n",
    "    numbers = [2, 5, 7, 10, 14, 20, 25, 30]\n",
    "    print(\"\\n Search Menu\")\n",
    "    print(\"Numbers list:\", numbers)\n",
    "\n",
    "    target = int(input(\"Enter number to search: \"))\n",
    "    print(\"\\nChoose search type\")\n",
    "    print(\"1. Linear Search\")\n",
    "    print(\"2. Binary Search\")\n",
    "\n",
    "    choice = input(\"Enter choice (1/2): \")\n",
    "\n",
    "    if choice == \"1\":\n",
    "        index = linear_search(numbers, target)\n",
    "    elif choice == \"2\":\n",
    "        index = binary_search(numbers, target)\n",
    "    else:\n",
    "        print(\"Invalid choice\")\n",
    "        return\n",
    "\n",
    "    if index != -1:\n",
    "        print(f\"Found {target} at index {index}\")\n",
    "    else:\n",
    "        print(f\"{target} not found\")\n",
    "\n",
    "# Sort menu\n",
    "# =================\n",
    "def bubble_sort(data):\n",
    "    \"\"\"Sort using Bubble Sort\"\"\"\n",
    "    n = len(data)\n",
    "    for i in range(n):\n",
    "        for j in range(0, n-i-1):\n",
    "            if data[j] > data[j+1]: # if left number is bigger than right\n",
    "                data[j], data[j+1] = data[j+1], data[j] # swap them\n",
    "    return data\n",
    "\n",
    "def quick_sort(data):\n",
    "    \"\"\"Sort using Quick Sort (recursive)\"\"\"\n",
    "    if len(data) <= 1: # base case\n",
    "        return data\n",
    "    pivot = data[0]\n",
    "\n",
    "    # Split the list\n",
    "    left = [x for x in data[1:] if x <= pivot]\n",
    "    right = [x for x in data[1:] if x >= pivot]\n",
    "\n",
    "    # Recursive step\n",
    "    # Sort the left and right side recursively.\n",
    "    # Put them together\n",
    "    return quick_sort(left) + [pivot] + quick_sort(right)\n",
    "\n",
    "def sort_menu():\n",
    "    numbers = [25, 5,14, 2, 30, 7, 10, 20]\n",
    "    print(\"\\nSort Menu\")\n",
    "    print(\"Unsorted list:\", numbers)\n",
    "\n",
    "    print(\"\\nChoose sorting method:\")\n",
    "    print(\"1. Bubble Sort\")\n",
    "    print(\"2. Quick Sort\")\n",
    "\n",
    "    choice = input(\"Enter choice (1/2): \")\n",
    "\n",
    "    if choice == \"1\":\n",
    "        sorted_data = bubble_sort(numbers[:])\n",
    "    elif choice == \"2\":\n",
    "        sorted_data = quick_sort(numbers)\n",
    "    else:\n",
    "        print(\"Invalid choice\")\n",
    "        return\n",
    "\n",
    "    print(\"Sorted list:\", sorted_data)\n",
    "\n",
    "# Recursion menu\n",
    "# =======================\n",
    "def factorial(n):\n",
    "    \"\"\"Recursive factorial\"\"\"\n",
    "    if n == 0 or n == 1:\n",
    "        return 1\n",
    "    return n * factorial(n-1)\n",
    "\n",
    "def fibonacci(n):\n",
    "    \"\"\"Recursive fibonacci\"\"\"\n",
    "    if n <= 1:\n",
    "        return n\n",
    "    return fobonacci(n-1) + fibonacci(n-2)\n",
    "\n",
    "def recursion_menu():\n",
    "    print(\"\\nRecursive Toolbox\")\n",
    "    print(\"1. Factorial\")\n",
    "    print(\"2. Fibonacci\")\n",
    "\n",
    "    choice = input(\"Enter choice (1/2/3): \")\n",
    "\n",
    "    if choice == \"1\":\n",
    "        n = int(input(\"Enter a number: \"))\n",
    "        print(f\"Factorial of {n} = {factorial(n)}\")\n",
    "\n",
    "    elif choice == \"2\":\n",
    "        n = int(input(\"Enter a number: \"))\n",
    "        print(f\"Fibonacci({n}) = {fibonacci(n)}\")\n",
    "\n",
    "    else:\n",
    "        print(\"Invalid choice\")"
   ]
  },
  {
   "cell_type": "code",
   "execution_count": null,
   "id": "12446da2-1c65-4adb-bbec-bd9723758fb8",
   "metadata": {},
   "outputs": [],
   "source": []
  },
  {
   "cell_type": "code",
   "execution_count": null,
   "id": "d5158700-f4d6-47ef-8cf9-59875a9ae608",
   "metadata": {},
   "outputs": [],
   "source": []
  }
 ],
 "metadata": {
  "kernelspec": {
   "display_name": "Python [conda env:base] *",
   "language": "python",
   "name": "conda-base-py"
  },
  "language_info": {
   "codemirror_mode": {
    "name": "ipython",
    "version": 3
   },
   "file_extension": ".py",
   "mimetype": "text/x-python",
   "name": "python",
   "nbconvert_exporter": "python",
   "pygments_lexer": "ipython3",
   "version": "3.13.5"
  }
 },
 "nbformat": 4,
 "nbformat_minor": 5
}
